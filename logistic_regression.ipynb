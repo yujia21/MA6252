{
 "cells": [
  {
   "cell_type": "markdown",
   "metadata": {
    "collapsed": true
   },
   "source": [
    "# Logistic Regression Example\n",
    "\n",
    "A logistic regression learning algorithm example using TensorFlow library.\n",
    "This example is using the MNIST database of handwritten digits (http://yann.lecun.com/exdb/mnist/)\n",
    "\n",
    "- Author: Aymeric Damien\n",
    "- Project: https://github.com/aymericdamien/TensorFlow-Examples/"
   ]
  },
  {
   "cell_type": "code",
   "execution_count": 1,
   "metadata": {},
   "outputs": [
    {
     "name": "stdout",
     "output_type": "stream",
     "text": [
      "Extracting /tmp/data/train-images-idx3-ubyte.gz\n",
      "Extracting /tmp/data/train-labels-idx1-ubyte.gz\n",
      "Extracting /tmp/data/t10k-images-idx3-ubyte.gz\n",
      "Extracting /tmp/data/t10k-labels-idx1-ubyte.gz\n"
     ]
    }
   ],
   "source": [
    "import tensorflow as tf\n",
    "\n",
    "# Import MINST data\n",
    "from tensorflow.examples.tutorials.mnist import input_data\n",
    "mnist = input_data.read_data_sets(\"/tmp/data/\", one_hot=True)"
   ]
  },
  {
   "cell_type": "code",
   "execution_count": 14,
   "metadata": {},
   "outputs": [],
   "source": [
    "# Parameters\n",
    "learning_rate = 0.01\n",
    "training_epochs = 25\n",
    "batch_size = 100\n",
    "display_step = 1\n",
    "\n",
    "# tf Graph Input\n",
    "x = tf.placeholder(tf.float32, [None, 784]) # mnist data image of shape 28*28=784\n",
    "y = tf.placeholder(tf.float32, [None, 10]) # 0-9 digits recognition => 10 classes\n",
    "\n",
    "# Set model weights\n",
    "W = tf.Variable(tf.zeros([784, 10]))\n",
    "b = tf.Variable(tf.zeros([10]))\n",
    "\n",
    "# Construct model\n",
    "pred = tf.nn.softmax(tf.matmul(x, W) + b) # Softmax\n",
    "\n",
    "# Minimize error using cross entropy\n",
    "cost = tf.reduce_mean(-tf.reduce_sum(y*tf.log(pred), reduction_indices=1)) \n",
    "# regularized cost\n",
    "regularization = 0.3\n",
    "reg_cost = cost + regularization *tf.log(tf.reduce_mean(tf.reduce_sum(tf.pow(pred, 2))))\n",
    "\n",
    "# Gradient Descent\n",
    "optimizer = tf.train.GradientDescentOptimizer(learning_rate).minimize(reg_cost)\n",
    "\n",
    "# Initialize the variables (i.e. assign their default value)\n",
    "init = tf.global_variables_initializer()"
   ]
  },
  {
   "cell_type": "code",
   "execution_count": null,
   "metadata": {},
   "outputs": [
    {
     "name": "stdout",
     "output_type": "stream",
     "text": [
      "Epoch: 0001 cost= 1.062241759 regularized cost= 2.032147023\n",
      "Epoch: 0002 cost= 0.633333549 regularized cost= 1.788085500\n",
      "Epoch: 0003 cost= 0.531003693 regularized cost= 1.734954395\n",
      "Epoch: 0004 cost= 0.483715758 regularized cost= 1.710229070\n",
      "Epoch: 0005 cost= 0.452869251 regularized cost= 1.693624705\n",
      "Epoch: 0006 cost= 0.430154004 regularized cost= 1.681285601\n",
      "Epoch: 0007 cost= 0.414372130 regularized cost= 1.672876356\n",
      "Epoch: 0008 cost= 0.402021399 regularized cost= 1.666122595\n"
     ]
    }
   ],
   "source": [
    "# Start training\n",
    "with tf.Session() as sess:\n",
    "    sess.run(init)\n",
    "\n",
    "    # Training cycle\n",
    "    for epoch in range(training_epochs):\n",
    "        avg_cost = 0.\n",
    "        avg_reg_cost = 0.\n",
    "        total_batch = int(mnist.train.num_examples/batch_size)\n",
    "        # Loop over all batches\n",
    "        for i in range(total_batch):\n",
    "            batch_xs, batch_ys = mnist.train.next_batch(batch_size)\n",
    "            # Fit training using batch data\n",
    "            _, c = sess.run([optimizer, cost], feed_dict={x: batch_xs,\n",
    "                                                          y: batch_ys})\n",
    "            _, reg_c = sess.run([optimizer, reg_cost], feed_dict={x: batch_xs, \n",
    "                                                                  y:batch_ys})\n",
    "            # Compute average loss\n",
    "            avg_cost += c / total_batch\n",
    "            avg_reg_cost += reg_c / total_batch\n",
    "        # Display logs per epoch step\n",
    "        if (epoch+1) % display_step == 0:\n",
    "            print(\"Epoch:\", '%04d' % (epoch+1), \"cost=\", \"{:.9f}\".format(avg_cost), \\\n",
    "                 \"regularized cost=\", \"{:.9f}\".format(avg_reg_cost))\n",
    "\n",
    "    print(\"Optimization Finished!\")\n",
    "\n",
    "    # Test model\n",
    "    correct_prediction = tf.equal(tf.argmax(pred, 1), tf.argmax(y, 1))\n",
    "    # Calculate accuracy for 3000 examples\n",
    "    accuracy = tf.reduce_mean(tf.cast(correct_prediction, tf.float32))\n",
    "    print(\"Accuracy:\", accuracy.eval({x: mnist.test.images[:3000], y: mnist.test.labels[:3000]}))"
   ]
  },
  {
   "cell_type": "markdown",
   "metadata": {},
   "source": [
    "WITH REGULARIZATION:\n",
    "Epoch: 0001 cost= 1.903156648 regularized cost= 5.057197482\n",
    "Epoch: 0002 cost= 1.871202506 regularized cost= 5.042995382\n",
    "Epoch: 0003 cost= 1.866471538 regularized cost= 5.040473760\n",
    "Epoch: 0004 cost= 1.864277363 regularized cost= 5.039608349\n",
    "Epoch: 0005 cost= 1.863450343 regularized cost= 5.039301732\n",
    "Epoch: 0006 cost= 1.862018061 regularized cost= 5.038506224\n",
    "Epoch: 0007 cost= 1.862504744 regularized cost= 5.038924653\n",
    "Epoch: 0008 cost= 1.860388574 regularized cost= 5.037682385\n",
    "Epoch: 0009 cost= 1.861383067 regularized cost= 5.038470450\n",
    "Epoch: 0010 cost= 1.860632180 regularized cost= 5.038177998\n",
    "Epoch: 0011 cost= 1.860149057 regularized cost= 5.037759897\n",
    "Epoch: 0012 cost= 1.860128187 regularized cost= 5.037863609\n",
    "Epoch: 0013 cost= 1.859220898 regularized cost= 5.037258317\n",
    "Epoch: 0014 cost= 1.859560245 regularized cost= 5.037623914\n",
    "Epoch: 0015 cost= 1.859542273 regularized cost= 5.037484733\n",
    "Epoch: 0016 cost= 1.859154034 regularized cost= 5.037536905\n",
    "Epoch: 0017 cost= 1.858526379 regularized cost= 5.036923363\n",
    "Epoch: 0018 cost= 1.859204259 regularized cost= 5.037304584\n",
    "Epoch: 0019 cost= 1.859712379 regularized cost= 5.037914779\n",
    "Epoch: 0020 cost= 1.857436911 regularized cost= 5.036236280\n",
    "Epoch: 0021 cost= 1.859246692 regularized cost= 5.037454181\n",
    "Epoch: 0022 cost= 1.857856592 regularized cost= 5.036710044\n",
    "Epoch: 0023 cost= 1.858619460 regularized cost= 5.037243759\n",
    "Epoch: 0024 cost= 1.858340281 regularized cost= 5.036954125\n",
    "Epoch: 0025 cost= 1.858677481 regularized cost= 5.037177907\n",
    "Optimization Finished!\n",
    "Accuracy: 0.853"
   ]
  }
 ],
 "metadata": {
  "anaconda-cloud": {},
  "kernelspec": {
   "display_name": "Python deep learning",
   "language": "python",
   "name": "deeplearning"
  },
  "language_info": {
   "codemirror_mode": {
    "name": "ipython",
    "version": 3
   },
   "file_extension": ".py",
   "mimetype": "text/x-python",
   "name": "python",
   "nbconvert_exporter": "python",
   "pygments_lexer": "ipython3",
   "version": "3.5.4"
  }
 },
 "nbformat": 4,
 "nbformat_minor": 1
}
