{
 "cells": [
  {
   "cell_type": "markdown",
   "metadata": {
    "collapsed": true
   },
   "source": [
    "# Logistic Regression Penalty Function"
   ]
  },
  {
   "cell_type": "code",
   "execution_count": 1,
   "metadata": {
    "collapsed": false
   },
   "outputs": [
    {
     "name": "stdout",
     "output_type": "stream",
     "text": [
      "Extracting /tmp/data/train-images-idx3-ubyte.gz\n",
      "Extracting /tmp/data/train-labels-idx1-ubyte.gz\n",
      "Extracting /tmp/data/t10k-images-idx3-ubyte.gz\n",
      "Extracting /tmp/data/t10k-labels-idx1-ubyte.gz\n"
     ]
    }
   ],
   "source": [
    "import tensorflow as tf\n",
    "\n",
    "# Import MINST data\n",
    "from tensorflow.examples.tutorials.mnist import input_data\n",
    "mnist = input_data.read_data_sets(\"/tmp/data/\", one_hot=True)"
   ]
  },
  {
   "cell_type": "code",
   "execution_count": 35,
   "metadata": {
    "collapsed": false
   },
   "outputs": [],
   "source": [
    "# Parameters\n",
    "learning_rate = 0.01\n",
    "training_epochs = 200\n",
    "batch_size = 100\n",
    "display_step = 10\n",
    "\n",
    "# tf Graph Input\n",
    "x = tf.placeholder(tf.float32, [None, 784]) # mnist data image of shape 28*28=784\n",
    "y = tf.placeholder(tf.float32, [None, 10]) # 0-9 digits recognition => 10 classes\n",
    "\n",
    "# Set model weights\n",
    "W = tf.Variable(tf.zeros([784, 10]))\n",
    "b = tf.Variable(tf.zeros([10]))\n",
    "\n",
    "# Construct model\n",
    "pred = tf.nn.softmax(tf.matmul(x, W) + b) # Softmax\n",
    "\n",
    "# Minimize error using cross entropy\n",
    "cost = tf.reduce_mean(-tf.reduce_sum(y*tf.log(pred), reduction_indices=1)) \n",
    "\n",
    "# regularized cost\n",
    "beta = 0.01\n",
    "L2_pen = beta * tf.reduce_sum(W**2)# tf.nn.l2_loss(W) \n",
    "L2_cost = cost + L2_pen\n",
    "L1_pen = beta * tf.reduce_sum(tf.abs(W))\n",
    "L1_cost = cost + L1_pen\n",
    "\n",
    "# Gradient Descent\n",
    "#optimizer = tf.train.GradientDescentOptimizer(learning_rate).minimize(cost)\n",
    "optimizer = tf.train.GradientDescentOptimizer(learning_rate).minimize(L2_cost)\n",
    "#optimizer = tf.train.GradientDescentOptimizer(learning_rate).minimize(L1_cost)\n",
    "\n",
    "# Initialize the variables (i.e. assign their default value)\n",
    "init = tf.global_variables_initializer()"
   ]
  },
  {
   "cell_type": "code",
   "execution_count": 36,
   "metadata": {
    "collapsed": false,
    "scrolled": false
   },
   "outputs": [
    {
     "name": "stdout",
     "output_type": "stream",
     "text": [
      "Epoch: 0010 cost= 0.491011518 pen= 0.185976\n",
      "Epoch: 0020 cost= 0.478627821 pen= 0.193715\n",
      "Epoch: 0030 cost= 0.472601430 pen= 0.194456\n",
      "Epoch: 0040 cost= 0.473570486 pen= 0.194373\n",
      "Epoch: 0050 cost= 0.470135941 pen= 0.194219\n",
      "Epoch: 0060 cost= 0.472724662 pen= 0.194007\n",
      "Epoch: 0070 cost= 0.471334191 pen= 0.194029\n",
      "Epoch: 0080 cost= 0.470399043 pen= 0.194013\n",
      "Epoch: 0090 cost= 0.470395019 pen= 0.193965\n",
      "Epoch: 0100 cost= 0.468146235 pen= 0.193845\n",
      "Epoch: 0110 cost= 0.469396983 pen= 0.194058\n",
      "Epoch: 0120 cost= 0.470312218 pen= 0.194083\n",
      "Epoch: 0130 cost= 0.469118983 pen= 0.194122\n",
      "Epoch: 0140 cost= 0.469971132 pen= 0.194078\n",
      "Epoch: 0150 cost= 0.466941724 pen= 0.194166\n",
      "Epoch: 0160 cost= 0.468501817 pen= 0.194119\n",
      "Epoch: 0170 cost= 0.468419028 pen= 0.194102\n",
      "Epoch: 0180 cost= 0.468339991 pen= 0.194077\n",
      "Epoch: 0190 cost= 0.470099216 pen= 0.194041\n",
      "Epoch: 0200 cost= 0.471474575 pen= 0.194023\n",
      "Test Accuracy: 0.8986\n"
     ]
    }
   ],
   "source": [
    "# Start training\n",
    "CV_accuracy = []\n",
    "CV_epoch = []\n",
    "train_cost = []\n",
    "CV_cost = []\n",
    "test_accuracy = []\n",
    "\n",
    "total_batch = int(mnist.train.num_examples/batch_size)\n",
    "\n",
    "with tf.Session() as sess:\n",
    "    sess.run(init)\n",
    "\n",
    "    # Training cycle\n",
    "    for epoch in range(training_epochs):\n",
    "        avg_cost = 0.        \n",
    "        # Loop over all batches\n",
    "        for i in range(total_batch):\n",
    "            batch_xs, batch_ys = mnist.train.next_batch(batch_size)\n",
    "            # Fit training using batch data\n",
    "            _, c = sess.run([optimizer, cost], feed_dict={x: batch_xs, y: batch_ys})\n",
    "            \n",
    "            # Compute average loss\n",
    "            avg_cost += c / total_batch\n",
    "        \n",
    "        # Add training and CV cost to plot\n",
    "        train_cost = train_cost + [avg_cost]\n",
    "        CV_cost = CV_cost + [sess.run(cost, feed_dict = {x: mnist.validation.images, y: mnist.validation.labels})]\n",
    "        \n",
    "        # Display loss per epoch step\n",
    "        if (epoch+1) % display_step == 0:\n",
    "            print(\"Epoch:\", '%04d' % (epoch+1), \"cost=\", \"{:.9f}\".format(avg_cost), \"pen=\", str(L2_pen.eval()))\n",
    "\n",
    "        if ((epoch+1)%10 == 0):\n",
    "            # Test model\n",
    "            correct_prediction = tf.equal(tf.argmax(pred, 1), tf.argmax(y, 1))\n",
    "            \n",
    "            # Calculate accuracy for CV and test set\n",
    "            accuracy = tf.reduce_mean(tf.cast(correct_prediction, tf.float32))\n",
    "            cv_acc = accuracy.eval({x: mnist.validation.images, y: mnist.validation.labels})\n",
    "            test_acc = accuracy.eval({x: mnist.test.images, y: mnist.test.labels})\n",
    "            CV_accuracy = CV_accuracy + [cv_acc]\n",
    "            CV_epoch = CV_epoch + [epoch]\n",
    "            test_accuracy = test_accuracy + [test_acc]\n",
    "\n",
    "    # Test model\n",
    "    correct_prediction = tf.equal(tf.argmax(pred, 1), tf.argmax(y, 1))\n",
    "    \n",
    "    # Calculate accuracy for test examples\n",
    "    accuracy = tf.reduce_mean(tf.cast(correct_prediction, tf.float32))\n",
    "    print(\"Test Accuracy:\", accuracy.eval({x: mnist.test.images, y: mnist.test.labels}))"
   ]
  },
  {
   "cell_type": "code",
   "execution_count": 20,
   "metadata": {
    "collapsed": false
   },
   "outputs": [
    {
     "data": {
      "text/plain": [
       "<matplotlib.legend.Legend at 0x26a33c8af60>"
      ]
     },
     "execution_count": 20,
     "metadata": {},
     "output_type": "execute_result"
    },
    {
     "data": {
      "image/png": "[encoded data removed]",
      "text/plain": [
       "<matplotlib.figure.Figure at 0x26a31548550>"
      ]
     },
     "metadata": {},
     "output_type": "display_data"
    }
   ],
   "source": [
    "import matplotlib.pyplot as plt\n",
    "%matplotlib inline\n",
    "\n",
    "plt.plot(CV_epoch[:20], test_accuracy[:20], label=\"Test set accuracy\")\n",
    "plt.plot(CV_epoch[:20], CV_accuracy[:20], label=\"CV set accuracy\")\n",
    "plt.title(\"Accuracy over epochs with L1 penalty\")\n",
    "plt.legend()"
   ]
  },
  {
   "cell_type": "code",
   "execution_count": 22,
   "metadata": {
    "collapsed": false
   },
   "outputs": [
    {
     "data": {
      "text/plain": [
       "<matplotlib.legend.Legend at 0x26a33d9b710>"
      ]
     },
     "execution_count": 22,
     "metadata": {},
     "output_type": "execute_result"
    },
    {
     "data": {
      "image/png": "[encoded data removed]",
      "text/plain": [
       "<matplotlib.figure.Figure at 0x26a33d435f8>"
      ]
     },
     "metadata": {},
     "output_type": "display_data"
    }
   ],
   "source": [
    "plt.plot(CV_epoch[1:25], train_cost[1:25], label=\"Train cost\")\n",
    "plt.plot(CV_epoch[1:25], CV_cost[1:25], label=\"CV cost\")\n",
    "plt.title(\"Cost over epochs with L1 penalty\")\n",
    "plt.legend()"
   ]
  },
  {
   "cell_type": "markdown",
   "metadata": {
    "collapsed": true
   },
   "source": [
    "L1\n",
    "beta=0.001\n",
    "Epoch: 0010 cost= 0.454069288 pen= 200.662\n",
    "Epoch: 0020 cost= 0.421213801 pen= 210.404\n",
    "Epoch: 0030 cost= 0.409162148 pen= 213.155\n",
    "Epoch: 0040 cost= 0.401409863 pen= 214.263\n",
    "Epoch: 0050 cost= 0.399225405 pen= 215.079\n",
    "Epoch: 0060 cost= 0.395307039 pen= 215.441\n",
    "Epoch: 0070 cost= 0.391623295 pen= 215.75\n",
    "Epoch: 0080 cost= 0.389830092 pen= 215.929\n",
    "Epoch: 0090 cost= 0.392181656 pen= 216.222\n",
    "Epoch: 0100 cost= 0.387944622 pen= 216.347\n",
    "Epoch: 0110 cost= 0.388119785 pen= 216.436\n",
    "Epoch: 0120 cost= 0.386054274 pen= 216.491\n",
    "Epoch: 0130 cost= 0.388816547 pen= 216.471\n",
    "Epoch: 0140 cost= 0.384250124 pen= 216.566\n",
    "Epoch: 0150 cost= 0.387293101 pen= 216.658\n",
    "Epoch: 0160 cost= 0.386796795 pen= 216.672\n",
    "Epoch: 0170 cost= 0.387646286 pen= 216.677\n",
    "Epoch: 0180 cost= 0.386132776 pen= 216.691\n",
    "Epoch: 0190 cost= 0.385304325 pen= 216.741\n",
    "Epoch: 0200 cost= 0.384988306 pen= 216.886\n",
    "Test Accuracy: 0.9046\n",
    "\n",
    "beta=0.0005\n",
    "Epoch: 0010 cost= 0.422528627 pen= 0.120368034363\n",
    "Epoch: 0020 cost= 0.380266473 pen= 0.13189642334\n",
    "Epoch: 0030 cost= 0.366055716 pen= 0.136495849609\n",
    "Epoch: 0040 cost= 0.362372722 pen= 0.138830749512\n",
    "Epoch: 0050 cost= 0.353613164 pen= 0.14032182312\n",
    "Epoch: 0060 cost= 0.347802954 pen= 0.141246856689\n",
    "Epoch: 0070 cost= 0.345619127 pen= 0.14187562561\n",
    "Epoch: 0080 cost= 0.339770605 pen= 0.142386657715\n",
    "Epoch: 0090 cost= 0.341558791 pen= 0.142784576416\n",
    "Epoch: 0100 cost= 0.341217563 pen= 0.143086654663\n",
    "Epoch: 0110 cost= 0.339145638 pen= 0.143339447021\n",
    "Epoch: 0120 cost= 0.339679358 pen= 0.143622253418\n",
    "Epoch: 0130 cost= 0.338116528 pen= 0.14372416687\n",
    "Epoch: 0140 cost= 0.335343507 pen= 0.143987045288\n",
    "Epoch: 0150 cost= 0.336994899 pen= 0.144062225342\n",
    "Epoch: 0160 cost= 0.337097460 pen= 0.144203094482\n",
    "Epoch: 0170 cost= 0.336711657 pen= 0.144422210693\n",
    "Epoch: 0180 cost= 0.330704518 pen= 0.144508468628\n",
    "Epoch: 0190 cost= 0.336872944 pen= 0.144568695068\n",
    "Epoch: 0200 cost= 0.334263440 pen= 0.144677963257\n",
    "Test Accuracy: 0.9133\n",
    "\n",
    "beta=0.0001\n",
    "Epoch: 0010 cost= 0.394820082 pen= 0.00309557403564\n",
    "Epoch: 0020 cost= 0.345827429 pen= 0.00378317016602\n",
    "Epoch: 0030 cost= 0.329941979 pen= 0.00423141052246\n",
    "Epoch: 0040 cost= 0.313328082 pen= 0.00457337310791\n",
    "Epoch: 0050 cost= 0.304479661 pen= 0.00485309051514\n",
    "Epoch: 0060 cost= 0.301126717 pen= 0.00508886657715\n",
    "Epoch: 0070 cost= 0.293905973 pen= 0.00529627929688\n",
    "Epoch: 0080 cost= 0.293016880 pen= 0.00548053894043\n",
    "Epoch: 0090 cost= 0.287074586 pen= 0.00564617919922\n",
    "Epoch: 0100 cost= 0.284998883 pen= 0.00579772644043\n",
    "Epoch: 0110 cost= 0.282731671 pen= 0.00593765869141\n",
    "Epoch: 0120 cost= 0.276602966 pen= 0.00606919799805\n",
    "Epoch: 0130 cost= 0.278792395 pen= 0.006191796875\n",
    "Epoch: 0140 cost= 0.275249348 pen= 0.00630723693848\n",
    "Epoch: 0150 cost= 0.274804026 pen= 0.00641590148926\n",
    "Epoch: 0160 cost= 0.272438755 pen= 0.00651962158203\n",
    "Epoch: 0170 cost= 0.270703080 pen= 0.00661851257324\n",
    "Epoch: 0180 cost= 0.267526862 pen= 0.00671253540039\n",
    "Epoch: 0190 cost= 0.269262606 pen= 0.00680341430664\n",
    "Epoch: 0200 cost= 0.269129582 pen= 0.00688866699219\n",
    "Test Accuracy: 0.9238\n",
    "\n",
    "L2\n",
    "beta=0.01\n",
    "Epoch: 0010 cost= 0.440963497 pen= 0.123837\n",
    "Epoch: 0020 cost= 0.414994147 pen= 0.139769\n",
    "Epoch: 0030 cost= 0.408877795 pen= 0.143857\n",
    "Epoch: 0040 cost= 0.405060768 pen= 0.145222\n",
    "Epoch: 0050 cost= 0.403424112 pen= 0.145608\n",
    "Epoch: 0060 cost= 0.403311942 pen= 0.145815\n",
    "Epoch: 0070 cost= 0.403866928 pen= 0.145764\n",
    "Epoch: 0080 cost= 0.403864466 pen= 0.145794\n",
    "Epoch: 0090 cost= 0.404198098 pen= 0.14584\n",
    "Epoch: 0100 cost= 0.402700537 pen= 0.145774\n",
    "Epoch: 0110 cost= 0.399592027 pen= 0.145768\n",
    "Epoch: 0120 cost= 0.399571756 pen= 0.145764\n",
    "Epoch: 0130 cost= 0.400307400 pen= 0.145719\n",
    "Epoch: 0140 cost= 0.404235466 pen= 0.145634\n",
    "Epoch: 0150 cost= 0.400557157 pen= 0.145642\n",
    "Epoch: 0160 cost= 0.399666452 pen= 0.145844\n",
    "Epoch: 0170 cost= 0.400684420 pen= 0.145696\n",
    "Epoch: 0180 cost= 0.400431850 pen= 0.145727\n",
    "Epoch: 0190 cost= 0.402630579 pen= 0.145696\n",
    "Epoch: 0200 cost= 0.398524623 pen= 0.145778\n",
    "Test Accuracy: 0.9076\n",
    "\n",
    "beta=0.005\n",
    "Epoch: 0010 cost= 0.415788127 pen= 0.0741539\n",
    "Epoch: 0020 cost= 0.377635422 pen= 0.0916985\n",
    "Epoch: 0030 cost= 0.364559784 pen= 0.0991069\n",
    "Epoch: 0040 cost= 0.357830661 pen= 0.102729\n",
    "Epoch: 0050 cost= 0.358364213 pen= 0.104611\n",
    "Epoch: 0060 cost= 0.356435795 pen= 0.105717\n",
    "Epoch: 0070 cost= 0.358456423 pen= 0.106374\n",
    "Epoch: 0080 cost= 0.355275011 pen= 0.106788\n",
    "Epoch: 0090 cost= 0.352132447 pen= 0.107064\n",
    "Epoch: 0100 cost= 0.353591577 pen= 0.107155\n",
    "Epoch: 0110 cost= 0.355179636 pen= 0.107251\n",
    "Epoch: 0120 cost= 0.349905686 pen= 0.107383\n",
    "Epoch: 0130 cost= 0.352675814 pen= 0.107376\n",
    "Epoch: 0140 cost= 0.353382310 pen= 0.107424\n",
    "Epoch: 0150 cost= 0.352671564 pen= 0.107415\n",
    "Epoch: 0160 cost= 0.349599542 pen= 0.107473\n",
    "Epoch: 0170 cost= 0.353169053 pen= 0.107441\n",
    "Epoch: 0180 cost= 0.351679216 pen= 0.107494\n",
    "Epoch: 0190 cost= 0.347815235 pen= 0.107503\n",
    "Epoch: 0200 cost= 0.349195023 pen= 0.107513\n",
    "Test Accuracy: 0.9135"
   ]
  }
 ],
 "metadata": {
  "anaconda-cloud": {},
  "kernelspec": {
   "display_name": "Python deep learning",
   "language": "python",
   "name": "deeplearning"
  },
  "language_info": {
   "codemirror_mode": {
    "name": "ipython",
    "version": 3
   },
   "file_extension": ".py",
   "mimetype": "text/x-python",
   "name": "python",
   "nbconvert_exporter": "python",
   "pygments_lexer": "ipython3",
   "version": "3.5.4"
  }
 },
 "nbformat": 4,
 "nbformat_minor": 1
}
