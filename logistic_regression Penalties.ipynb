{
 "cells": [
  {
   "cell_type": "markdown",
   "metadata": {
    "collapsed": true
   },
   "source": [
    "# Logistic Regression Example\n",
    "\n",
    "A logistic regression learning algorithm example using TensorFlow library.\n",
    "This example is using the MNIST database of handwritten digits (http://yann.lecun.com/exdb/mnist/)\n",
    "\n",
    "- Author: Aymeric Damien\n",
    "- Project: https://github.com/aymericdamien/TensorFlow-Examples/"
   ]
  },
  {
   "cell_type": "code",
   "execution_count": 2,
   "metadata": {},
   "outputs": [
    {
     "name": "stdout",
     "output_type": "stream",
     "text": [
      "Extracting /tmp/data/train-images-idx3-ubyte.gz\n",
      "Extracting /tmp/data/train-labels-idx1-ubyte.gz\n",
      "Extracting /tmp/data/t10k-images-idx3-ubyte.gz\n",
      "Extracting /tmp/data/t10k-labels-idx1-ubyte.gz\n"
     ]
    }
   ],
   "source": [
    "import tensorflow as tf\n",
    "\n",
    "# Import MINST data\n",
    "from tensorflow.examples.tutorials.mnist import input_data\n",
    "mnist = input_data.read_data_sets(\"/tmp/data/\", one_hot=True)"
   ]
  },
  {
   "cell_type": "code",
   "execution_count": 16,
   "metadata": {
    "collapsed": true
   },
   "outputs": [],
   "source": [
    "# Parameters\n",
    "learning_rate = 0.01\n",
    "training_epochs = 1000\n",
    "batch_size = 100\n",
    "display_step = 5\n",
    "\n",
    "# tf Graph Input\n",
    "x = tf.placeholder(tf.float32, [None, 784]) # mnist data image of shape 28*28=784\n",
    "y = tf.placeholder(tf.float32, [None, 10]) # 0-9 digits recognition => 10 classes\n",
    "\n",
    "# Set model weights\n",
    "W = tf.Variable(tf.zeros([784, 10]))\n",
    "b = tf.Variable(tf.zeros([10]))\n",
    "\n",
    "# Construct model\n",
    "pred = tf.nn.softmax(tf.matmul(x, W) + b) # Softmax\n",
    "\n",
    "# Minimize error using cross entropy\n",
    "cost = tf.reduce_mean(-tf.reduce_sum(y*tf.log(pred), reduction_indices=1)) \n",
    "\n",
    "# regularized cost\n",
    "reg_para = 0.3\n",
    "L2_cost = cost + reg_para *tf.log(tf.reduce_mean(tf.reduce_sum(tf.pow(pred, 2)))) # add log for same order\n",
    "L1_cost = cost + reg_para *tf.log(tf.reduce_mean(tf.reduce_sum(tf.abs(pred)))) # add log for same order\n",
    "\n",
    "# Gradient Descent\n",
    "#optimizer = tf.train.GradientDescentOptimizer(learning_rate).minimize(cost)\n",
    "#optimizer = tf.train.GradientDescentOptimizer(learning_rate).minimize(L2_cost)\n",
    "optimizer = tf.train.GradientDescentOptimizer(learning_rate).minimize(L1_cost)\n",
    "\n",
    "# Initialize the variables (i.e. assign their default value)\n",
    "init = tf.global_variables_initializer()"
   ]
  },
  {
   "cell_type": "code",
   "execution_count": null,
   "metadata": {
    "scrolled": true
   },
   "outputs": [
    {
     "name": "stdout",
     "output_type": "stream",
     "text": [
      "Epoch: 0005 cost= 0.467086814\n",
      "Epoch: 0010 cost= 0.391695594\n",
      "Epoch: 0015 cost= 0.364503421\n",
      "Epoch: 0020 cost= 0.341856282\n",
      "Epoch: 0025 cost= 0.332903095\n",
      "Epoch: 0030 cost= 0.323746144\n",
      "Epoch: 0035 cost= 0.319669512\n",
      "Epoch: 0040 cost= 0.315062813\n",
      "Epoch: 0045 cost= 0.311660428\n",
      "Epoch: 0050 cost= 0.306292826\n",
      "Epoch: 0055 cost= 0.307175848\n",
      "Epoch: 0060 cost= 0.298601980\n",
      "Epoch: 0065 cost= 0.296364154\n",
      "Epoch: 0070 cost= 0.289909839\n",
      "Epoch: 0075 cost= 0.291793910\n",
      "Epoch: 0080 cost= 0.285247524\n",
      "Epoch: 0085 cost= 0.287135809\n",
      "Epoch: 0090 cost= 0.284303810\n",
      "Epoch: 0095 cost= 0.282233437\n",
      "Epoch: 0100 cost= 0.281269405\n",
      "Epoch: 0105 cost= 0.280253317\n",
      "Epoch: 0110 cost= 0.277707915\n",
      "Epoch: 0115 cost= 0.278153752\n",
      "Epoch: 0120 cost= 0.277863590\n",
      "Epoch: 0125 cost= 0.276246198\n",
      "Epoch: 0130 cost= 0.280705673\n"
     ]
    }
   ],
   "source": [
    "# Start training\n",
    "CV_accuracy = []\n",
    "CV_epoch = []\n",
    "train_cost = []\n",
    "CV_cost = []\n",
    "test_accuracy = []\n",
    "with tf.Session() as sess:\n",
    "    sess.run(init)\n",
    "\n",
    "    # Training cycle\n",
    "    for epoch in range(training_epochs):\n",
    "        avg_cost = 0.\n",
    "        total_batch = int(mnist.train.num_examples/batch_size)\n",
    "        # Loop over all batches\n",
    "        for i in range(total_batch):\n",
    "            batch_xs, batch_ys = mnist.train.next_batch(batch_size)\n",
    "            # Fit training using batch data\n",
    "            _, c = sess.run([optimizer, cost], feed_dict={x: batch_xs,\n",
    "                                                          y: batch_ys})\n",
    "\n",
    "            # Compute average loss\n",
    "            avg_cost += c / total_batch\n",
    "        train_cost = train_cost + [avg_cost]\n",
    "        CV_cost = CV_cost + [sess.run(cost, feed_dict = {x: mnist.test.images[:5000], y: mnist.test.labels[:5000]})]\n",
    "        # Display logs per epoch step\n",
    "        if (epoch+1) % display_step == 0:\n",
    "            print(\"Epoch:\", '%04d' % (epoch+1), \"cost=\", \"{:.9f}\".format(avg_cost))\n",
    "        \n",
    "        if ((epoch+1)%10 == 0):\n",
    "            # Test model\n",
    "            correct_prediction = tf.equal(tf.argmax(pred, 1), tf.argmax(y, 1))\n",
    "            # Calculate accuracy for CV and test set\n",
    "            accuracy = tf.reduce_mean(tf.cast(correct_prediction, tf.float32))\n",
    "            cv_acc = accuracy.eval({x: mnist.validation.images, y: mnist.validation.labels})\n",
    "            test_acc = accuracy.eval({x: mnist.test.images, y: mnist.test.labels})\n",
    "            CV_accuracy = CV_accuracy + [cv_acc]\n",
    "            CV_epoch = CV_epoch + [epoch]\n",
    "            test_accuracy = test_accuracy + [test_acc]\n",
    "    print(\"Optimization Finished!\")\n",
    "\n",
    "    # Test model\n",
    "    correct_prediction = tf.equal(tf.argmax(pred, 1), tf.argmax(y, 1))\n",
    "    # Calculate accuracy for test examples\n",
    "    accuracy = tf.reduce_mean(tf.cast(correct_prediction, tf.float32))\n",
    "    print(\"Test Accuracy:\", accuracy.eval({x: mnist.test.images, y: mnist.test.labels}))"
   ]
  },
  {
   "cell_type": "code",
   "execution_count": 19,
   "metadata": {},
   "outputs": [
    {
     "data": {
      "text/plain": [
       "<matplotlib.text.Text at 0x1568de6c940>"
      ]
     },
     "execution_count": 19,
     "metadata": {},
     "output_type": "execute_result"
    },
    {
     "data": {
      "image/png": "[encoded data removed]",
      "text/plain": [
       "<matplotlib.figure.Figure at 0x1568d9830f0>"
      ]
     },
     "metadata": {},
     "output_type": "display_data"
    }
   ],
   "source": [
    "import matplotlib.pyplot as plt\n",
    "%matplotlib inline\n",
    "\n",
    "plt.plot(CV_epoch[:20], CV_accuracy[:20])\n",
    "plt.title(\"CV accuracy over epochs with L1 penalty\")"
   ]
  },
  {
   "cell_type": "code",
   "execution_count": 10,
   "metadata": {},
   "outputs": [
    {
     "data": {
      "text/plain": [
       "<matplotlib.legend.Legend at 0x1568d80cda0>"
      ]
     },
     "execution_count": 10,
     "metadata": {},
     "output_type": "execute_result"
    },
    {
     "data": {
      "image/png": "[encoded data removed]",
      "text/plain": [
       "<matplotlib.figure.Figure at 0x1568d707198>"
      ]
     },
     "metadata": {},
     "output_type": "display_data"
    }
   ],
   "source": [
    "plt.plot(train_cost, label=\"Train cost\")\n",
    "plt.plot(CV_cost, label=\"CV cost\")\n",
    "plt.title(\"Cost of CV and train set over epochs, L1 penalty\")\n",
    "plt.legend()"
   ]
  }
 ],
 "metadata": {
  "anaconda-cloud": {},
  "kernelspec": {
   "display_name": "Python deep learning",
   "language": "python",
   "name": "deeplearning"
  },
  "language_info": {
   "codemirror_mode": {
    "name": "ipython",
    "version": 3
   },
   "file_extension": ".py",
   "mimetype": "text/x-python",
   "name": "python",
   "nbconvert_exporter": "python",
   "pygments_lexer": "ipython3",
   "version": "3.5.4"
  }
 },
 "nbformat": 4,
 "nbformat_minor": 1
}
