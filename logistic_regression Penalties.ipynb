{
 "cells": [
  {
   "cell_type": "markdown",
   "metadata": {
    "collapsed": true
   },
   "source": [
    "# Logistic Regression Example\n",
    "\n",
    "A logistic regression learning algorithm example using TensorFlow library.\n",
    "This example is using the MNIST database of handwritten digits (http://yann.lecun.com/exdb/mnist/)\n",
    "\n",
    "- Author: Aymeric Damien\n",
    "- Project: https://github.com/aymericdamien/TensorFlow-Examples/"
   ]
  },
  {
   "cell_type": "code",
   "execution_count": 2,
   "metadata": {},
   "outputs": [
    {
     "name": "stdout",
     "output_type": "stream",
     "text": [
      "Extracting /tmp/data/train-images-idx3-ubyte.gz\n",
      "Extracting /tmp/data/train-labels-idx1-ubyte.gz\n",
      "Extracting /tmp/data/t10k-images-idx3-ubyte.gz\n",
      "Extracting /tmp/data/t10k-labels-idx1-ubyte.gz\n"
     ]
    }
   ],
   "source": [
    "import tensorflow as tf\n",
    "\n",
    "# Import MINST data\n",
    "from tensorflow.examples.tutorials.mnist import input_data\n",
    "mnist = input_data.read_data_sets(\"/tmp/data/\", one_hot=True)"
   ]
  },
  {
   "cell_type": "code",
   "execution_count": 3,
   "metadata": {
    "collapsed": true
   },
   "outputs": [],
   "source": [
    "# Parameters\n",
    "learning_rate = 0.01\n",
    "training_epochs = 2000\n",
    "batch_size = 100\n",
    "display_step = 5\n",
    "\n",
    "# tf Graph Input\n",
    "x = tf.placeholder(tf.float32, [None, 784]) # mnist data image of shape 28*28=784\n",
    "y = tf.placeholder(tf.float32, [None, 10]) # 0-9 digits recognition => 10 classes\n",
    "\n",
    "# Set model weights\n",
    "W = tf.Variable(tf.zeros([784, 10]))\n",
    "b = tf.Variable(tf.zeros([10]))\n",
    "\n",
    "# Construct model\n",
    "pred = tf.nn.softmax(tf.matmul(x, W) + b) # Softmax\n",
    "\n",
    "# Minimize error using cross entropy\n",
    "cost = tf.reduce_mean(-tf.reduce_sum(y*tf.log(pred), reduction_indices=1)) \n",
    "\n",
    "# regularized cost\n",
    "reg_para = 0.3\n",
    "L2_cost = cost + reg_para *tf.log(tf.reduce_mean(tf.reduce_sum(tf.pow(pred, 2)))) # add log for same order\n",
    "L1_cost = cost + reg_para *tf.log(tf.reduce_mean(tf.reduce_sum(tf.abs(pred)))) # add log for same order\n",
    "\n",
    "# Gradient Descent\n",
    "optimizer = tf.train.GradientDescentOptimizer(learning_rate).minimize(cost)\n",
    "#optimizer = tf.train.GradientDescentOptimizer(learning_rate).minimize(L2_cost)\n",
    "#optimizer = tf.train.GradientDescentOptimizer(learning_rate).minimize(L1_cost)\n",
    "\n",
    "# Initialize the variables (i.e. assign their default value)\n",
    "init = tf.global_variables_initializer()"
   ]
  },
  {
   "cell_type": "code",
   "execution_count": null,
   "metadata": {
    "scrolled": true
   },
   "outputs": [
    {
     "name": "stdout",
     "output_type": "stream",
     "text": [
      "Epoch: 0005 cost= 0.465951794\n",
      "Epoch: 0010 cost= 0.393152240\n",
      "Epoch: 0015 cost= 0.361834410\n",
      "Epoch: 0020 cost= 0.343088774\n",
      "Epoch: 0025 cost= 0.334837449\n",
      "Epoch: 0030 cost= 0.323737840\n",
      "Epoch: 0035 cost= 0.316892887\n",
      "Epoch: 0040 cost= 0.311720741\n",
      "Epoch: 0045 cost= 0.307604936\n",
      "Epoch: 0050 cost= 0.304494254\n",
      "Epoch: 0055 cost= 0.299928871\n",
      "Epoch: 0060 cost= 0.297338725\n",
      "Epoch: 0065 cost= 0.296506331\n",
      "Epoch: 0070 cost= 0.293896796\n",
      "Epoch: 0075 cost= 0.291530624\n",
      "Epoch: 0080 cost= 0.287513124\n",
      "Epoch: 0085 cost= 0.287327165\n",
      "Epoch: 0090 cost= 0.284302420\n",
      "Epoch: 0095 cost= 0.281582401\n",
      "Epoch: 0100 cost= 0.283393879\n",
      "Epoch: 0105 cost= 0.280029441\n",
      "Epoch: 0110 cost= 0.280483964\n",
      "Epoch: 0115 cost= 0.280682254\n",
      "Epoch: 0120 cost= 0.275477963\n",
      "Epoch: 0125 cost= 0.280028483\n",
      "Epoch: 0130 cost= 0.274437727\n",
      "Epoch: 0135 cost= 0.274216287\n",
      "Epoch: 0140 cost= 0.274835550\n",
      "Epoch: 0145 cost= 0.276114857\n",
      "Epoch: 0150 cost= 0.273125045\n",
      "Epoch: 0155 cost= 0.271974934\n",
      "Epoch: 0160 cost= 0.271370988\n",
      "Epoch: 0165 cost= 0.271847866\n",
      "Epoch: 0170 cost= 0.270857695\n",
      "Epoch: 0175 cost= 0.267619884\n",
      "Epoch: 0180 cost= 0.271105462\n",
      "Epoch: 0185 cost= 0.271155748\n",
      "Epoch: 0190 cost= 0.268665014\n",
      "Epoch: 0195 cost= 0.267504792\n",
      "Epoch: 0200 cost= 0.267436120\n",
      "Epoch: 0205 cost= 0.266745589\n",
      "Epoch: 0210 cost= 0.264650605\n",
      "Epoch: 0215 cost= 0.267446200\n",
      "Epoch: 0220 cost= 0.264716410\n",
      "Epoch: 0225 cost= 0.263710892\n",
      "Epoch: 0230 cost= 0.264510431\n",
      "Epoch: 0235 cost= 0.265943853\n",
      "Epoch: 0240 cost= 0.264605557\n",
      "Epoch: 0245 cost= 0.263691600\n",
      "Epoch: 0250 cost= 0.261266915\n",
      "Epoch: 0255 cost= 0.261487019\n",
      "Epoch: 0260 cost= 0.261001256\n",
      "Epoch: 0265 cost= 0.261170292\n",
      "Epoch: 0270 cost= 0.260339977\n",
      "Epoch: 0275 cost= 0.259119627\n",
      "Epoch: 0280 cost= 0.259899075\n",
      "Epoch: 0285 cost= 0.258804116\n",
      "Epoch: 0290 cost= 0.261886820\n",
      "Epoch: 0295 cost= 0.258131330\n",
      "Epoch: 0300 cost= 0.260516881\n",
      "Epoch: 0305 cost= 0.260320122\n",
      "Epoch: 0310 cost= 0.259698000\n",
      "Epoch: 0315 cost= 0.260053542\n",
      "Epoch: 0320 cost= 0.259793608\n",
      "Epoch: 0325 cost= 0.258699005\n",
      "Epoch: 0330 cost= 0.255907999\n",
      "Epoch: 0335 cost= 0.257440839\n",
      "Epoch: 0340 cost= 0.256392890\n",
      "Epoch: 0345 cost= 0.255984058\n",
      "Epoch: 0350 cost= 0.257498911\n",
      "Epoch: 0355 cost= 0.257278558\n",
      "Epoch: 0360 cost= 0.256744677\n",
      "Epoch: 0365 cost= 0.255456652\n",
      "Epoch: 0370 cost= 0.254916276\n"
     ]
    }
   ],
   "source": [
    "# Start training\n",
    "CV_accuracy = []\n",
    "CV_epoch = []\n",
    "train_cost = []\n",
    "CV_cost = []\n",
    "with tf.Session() as sess:\n",
    "    sess.run(init)\n",
    "\n",
    "    # Training cycle\n",
    "    for epoch in range(training_epochs):\n",
    "        avg_cost = 0.\n",
    "        total_batch = int(mnist.train.num_examples/batch_size)\n",
    "        # Loop over all batches\n",
    "        for i in range(total_batch):\n",
    "            batch_xs, batch_ys = mnist.train.next_batch(batch_size)\n",
    "            # Fit training using batch data\n",
    "            _, c = sess.run([optimizer, cost], feed_dict={x: batch_xs,\n",
    "                                                          y: batch_ys})\n",
    "\n",
    "            # Compute average loss\n",
    "            avg_cost += c / total_batch\n",
    "        train_cost = train_cost + [avg_cost]\n",
    "        CV_cost = CV_cost + [sess.run(cost, feed_dict = {x: mnist.test.images[:5000], y: mnist.test.labels[:5000]})]\n",
    "        # Display logs per epoch step\n",
    "        if (epoch+1) % display_step == 0:\n",
    "            print(\"Epoch:\", '%04d' % (epoch+1), \"cost=\", \"{:.9f}\".format(avg_cost))\n",
    "        \n",
    "        if ((epoch+1)%10 == 0):\n",
    "            # Test model\n",
    "            correct_prediction = tf.equal(tf.argmax(pred, 1), tf.argmax(y, 1))\n",
    "            # Calculate accuracy for CV set\n",
    "            accuracy = tf.reduce_mean(tf.cast(correct_prediction, tf.float32))\n",
    "            cv_acc = accuracy.eval({x: mnist.test.images[:5000], y: mnist.test.labels[:5000]})\n",
    "            CV_accuracy = CV_accuracy + [cv_acc]\n",
    "            CV_epoch = CV_epoch + [epoch]\n",
    "    print(\"Optimization Finished!\")\n",
    "\n",
    "    # Test model\n",
    "    correct_prediction = tf.equal(tf.argmax(pred, 1), tf.argmax(y, 1))\n",
    "    # Calculate accuracy for test examples\n",
    "    accuracy = tf.reduce_mean(tf.cast(correct_prediction, tf.float32))\n",
    "    print(\"Test Accuracy:\", accuracy.eval({x: mnist.test.images[5000:], y: mnist.test.labels[5000:]}))"
   ]
  },
  {
   "cell_type": "code",
   "execution_count": 34,
   "metadata": {},
   "outputs": [
    {
     "data": {
      "text/plain": [
       "[<matplotlib.lines.Line2D at 0x24a8b16a6d8>]"
      ]
     },
     "execution_count": 34,
     "metadata": {},
     "output_type": "execute_result"
    },
    {
     "data": {
      "image/png": "[encoded data removed]",
      "text/plain": [
       "<matplotlib.figure.Figure at 0x24a8b105898>"
      ]
     },
     "metadata": {},
     "output_type": "display_data"
    }
   ],
   "source": [
    "import matplotlib.pyplot as plt\n",
    "%matplotlib inline"
   ]
  },
  {
   "cell_type": "code",
   "execution_count": 35,
   "metadata": {},
   "outputs": [
    {
     "data": {
      "text/plain": [
       "[<matplotlib.lines.Line2D at 0x24a8b1e04a8>]"
      ]
     },
     "execution_count": 35,
     "metadata": {},
     "output_type": "execute_result"
    },
    {
     "data": {
      "image/png": "[encoded data removed]",
      "text/plain": [
       "<matplotlib.figure.Figure at 0x24a89003a20>"
      ]
     },
     "metadata": {},
     "output_type": "display_data"
    }
   ],
   "source": [
    "plt.plot(train_cost)\n",
    "plt.title(\"Cost of CV and train set over epochs\")"
   ]
  }
 ],
 "metadata": {
  "anaconda-cloud": {},
  "kernelspec": {
   "display_name": "Python deep learning",
   "language": "python",
   "name": "deeplearning"
  },
  "language_info": {
   "codemirror_mode": {
    "name": "ipython",
    "version": 3
   },
   "file_extension": ".py",
   "mimetype": "text/x-python",
   "name": "python",
   "nbconvert_exporter": "python",
   "pygments_lexer": "ipython3",
   "version": "3.5.4"
  }
 },
 "nbformat": 4,
 "nbformat_minor": 1
}
