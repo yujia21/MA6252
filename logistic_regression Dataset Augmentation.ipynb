{
 "cells": [
  {
   "cell_type": "markdown",
   "metadata": {
    "collapsed": true
   },
   "source": [
    "# Logistic Regression Example\n",
    "\n",
    "A logistic regression learning algorithm example using TensorFlow library.\n",
    "This example is using the MNIST database of handwritten digits (http://yann.lecun.com/exdb/mnist/)\n",
    "\n",
    "- Author: Aymeric Damien\n",
    "- Project: https://github.com/aymericdamien/TensorFlow-Examples/"
   ]
  },
  {
   "cell_type": "code",
   "execution_count": 1,
   "metadata": {},
   "outputs": [
    {
     "name": "stdout",
     "output_type": "stream",
     "text": [
      "Extracting /tmp/data/train-images-idx3-ubyte.gz\n",
      "Extracting /tmp/data/train-labels-idx1-ubyte.gz\n",
      "Extracting /tmp/data/t10k-images-idx3-ubyte.gz\n",
      "Extracting /tmp/data/t10k-labels-idx1-ubyte.gz\n"
     ]
    }
   ],
   "source": [
    "import tensorflow as tf\n",
    "\n",
    "# Import MINST data\n",
    "from tensorflow.examples.tutorials.mnist import input_data\n",
    "mnist = input_data.read_data_sets(\"/tmp/data/\", one_hot=True)"
   ]
  },
  {
   "cell_type": "code",
   "execution_count": 5,
   "metadata": {},
   "outputs": [
    {
     "data": {
      "text/plain": [
       "<tensorflow.contrib.learn.python.learn.datasets.mnist.DataSet at 0x1bb700649e8>"
      ]
     },
     "execution_count": 5,
     "metadata": {},
     "output_type": "execute_result"
    }
   ],
   "source": [
    "# data augment here\n",
    "mnist.train."
   ]
  },
  {
   "cell_type": "code",
   "execution_count": 26,
   "metadata": {
    "collapsed": true
   },
   "outputs": [],
   "source": [
    "# Parameters\n",
    "learning_rate = 0.01\n",
    "training_epochs = 2000\n",
    "batch_size = 100\n",
    "display_step = 5\n",
    "\n",
    "# tf Graph Input\n",
    "x = tf.placeholder(tf.float32, [None, 784]) # mnist data image of shape 28*28=784\n",
    "y = tf.placeholder(tf.float32, [None, 10]) # 0-9 digits recognition => 10 classes\n",
    "\n",
    "# Set model weights\n",
    "W = tf.Variable(tf.zeros([784, 10]))\n",
    "b = tf.Variable(tf.zeros([10]))\n",
    "\n",
    "# Construct model\n",
    "pred = tf.nn.softmax(tf.matmul(x, W) + b) # Softmax\n",
    "\n",
    "# Minimize error using cross entropy\n",
    "cost = tf.reduce_mean(-tf.reduce_sum(y*tf.log(pred), reduction_indices=1)) \n",
    "\n",
    "# Gradient Descent\n",
    "optimizer = tf.train.GradientDescentOptimizer(learning_rate).minimize(cost)\n",
    "\n",
    "# Initialize the variables (i.e. assign their default value)\n",
    "init = tf.global_variables_initializer()"
   ]
  },
  {
   "cell_type": "code",
   "execution_count": null,
   "metadata": {
    "scrolled": true
   },
   "outputs": [
    {
     "name": "stdout",
     "output_type": "stream",
     "text": [
      "Epoch: 0005 cost= 0.466207468\n",
      "Epoch: 0010 cost= 0.393380921\n",
      "Epoch: 0015 cost= 0.361525591\n",
      "Epoch: 0020 cost= 0.344497984\n",
      "Epoch: 0025 cost= 0.332863596\n",
      "Epoch: 0030 cost= 0.324824511\n",
      "Epoch: 0035 cost= 0.318497198\n",
      "Epoch: 0040 cost= 0.312259854\n",
      "Epoch: 0045 cost= 0.309207928\n",
      "Epoch: 0050 cost= 0.304983515\n",
      "Epoch: 0055 cost= 0.302419297\n",
      "Epoch: 0060 cost= 0.298909016\n",
      "Epoch: 0065 cost= 0.295941762\n",
      "Epoch: 0070 cost= 0.292341861\n",
      "Epoch: 0075 cost= 0.293436488\n",
      "Epoch: 0080 cost= 0.289698061\n",
      "Epoch: 0085 cost= 0.287377481\n",
      "Epoch: 0090 cost= 0.285100655\n",
      "Epoch: 0095 cost= 0.286220975\n",
      "Epoch: 0100 cost= 0.282261527\n",
      "Epoch: 0105 cost= 0.283139964\n",
      "Epoch: 0110 cost= 0.280032191\n",
      "Epoch: 0115 cost= 0.278197506\n",
      "Epoch: 0120 cost= 0.280207537\n",
      "Epoch: 0125 cost= 0.278057740\n",
      "Epoch: 0130 cost= 0.276529189\n",
      "Epoch: 0135 cost= 0.276505910\n",
      "Epoch: 0140 cost= 0.275618547\n",
      "Epoch: 0145 cost= 0.272799041\n",
      "Epoch: 0150 cost= 0.273717604\n",
      "Epoch: 0155 cost= 0.272914163\n",
      "Epoch: 0160 cost= 0.274036620\n",
      "Epoch: 0165 cost= 0.270780715\n",
      "Epoch: 0170 cost= 0.269523348\n",
      "Epoch: 0175 cost= 0.268996062\n",
      "Epoch: 0180 cost= 0.267721387\n",
      "Epoch: 0185 cost= 0.267615998\n"
     ]
    }
   ],
   "source": [
    "# Start training\n",
    "CV_accuracy = []\n",
    "CV_epoch = []\n",
    "train_cost = []\n",
    "CV_cost = []\n",
    "test_accuracy = []\n",
    "with tf.Session() as sess:\n",
    "    sess.run(init)\n",
    "\n",
    "    # Training cycle\n",
    "    for epoch in range(training_epochs):\n",
    "        avg_cost = 0.\n",
    "        total_batch = int(mnist.train.num_examples/batch_size)\n",
    "        # Loop over all batches\n",
    "        for i in range(total_batch):\n",
    "            batch_xs, batch_ys = mnist.train.next_batch(batch_size)\n",
    "            # Fit training using batch data\n",
    "            _, c = sess.run([optimizer, cost], feed_dict={x: batch_xs,\n",
    "                                                          y: batch_ys})\n",
    "\n",
    "            # Compute average loss\n",
    "            avg_cost += c / total_batch\n",
    "        train_cost = train_cost + [avg_cost]\n",
    "        CV_cost = CV_cost + [sess.run(cost, feed_dict = {x: mnist.test.images[:5000], y: mnist.test.labels[:5000]})]\n",
    "        # Display logs per epoch step\n",
    "        if (epoch+1) % display_step == 0:\n",
    "            print(\"Epoch:\", '%04d' % (epoch+1), \"cost=\", \"{:.9f}\".format(avg_cost))\n",
    "        \n",
    "        if ((epoch+1)%10 == 0):\n",
    "            # Test model\n",
    "            correct_prediction = tf.equal(tf.argmax(pred, 1), tf.argmax(y, 1))\n",
    "            # Calculate accuracy for CV and test set\n",
    "            accuracy = tf.reduce_mean(tf.cast(correct_prediction, tf.float32))\n",
    "            cv_acc = accuracy.eval({x: mnist.test.images[:5000], y: mnist.test.labels[:5000]})\n",
    "            test_acc = accuracy.eval({x: mnist.test.images[5000:], y: mnist.test.labels[5000:]})\n",
    "            CV_accuracy = CV_accuracy + [cv_acc]\n",
    "            test_accuracy = test_accuracy + [test_acc]\n",
    "            CV_epoch = CV_epoch + [epoch]\n",
    "    print(\"Optimization Finished!\")\n",
    "\n",
    "    # Test model\n",
    "    correct_prediction = tf.equal(tf.argmax(pred, 1), tf.argmax(y, 1))\n",
    "    # Calculate accuracy for test examples\n",
    "    accuracy = tf.reduce_mean(tf.cast(correct_prediction, tf.float32))\n",
    "    print(\"Test Accuracy:\", accuracy.eval({x: mnist.test.images[5000:], y: mnist.test.labels[5000:]}))"
   ]
  },
  {
   "cell_type": "code",
   "execution_count": 38,
   "metadata": {},
   "outputs": [
    {
     "data": {
      "text/plain": [
       "<matplotlib.text.Text at 0x24a8b5507f0>"
      ]
     },
     "execution_count": 38,
     "metadata": {},
     "output_type": "execute_result"
    },
    {
     "data": {
      "image/png": "[encoded data removed]",
      "text/plain": [
       "<matplotlib.figure.Figure at 0x24a8b51ae48>"
      ]
     },
     "metadata": {},
     "output_type": "display_data"
    }
   ],
   "source": [
    "import matplotlib.pyplot as plt\n",
    "%matplotlib inline\n",
    "plt.plot(CV_epoch,CV_accuracy,label=\"CV set accuracy\")\n",
    "plt.plot(CV_epoch,test_accuracy,label=\"Test set accuracy\")\n",
    "plt.title(\"Accuracy of CV set over epochs\")\n",
    "plt.legend()"
   ]
  },
  {
   "cell_type": "code",
   "execution_count": 44,
   "metadata": {},
   "outputs": [
    {
     "data": {
      "text/plain": [
       "<matplotlib.legend.Legend at 0x24a8b86cda0>"
      ]
     },
     "execution_count": 44,
     "metadata": {},
     "output_type": "execute_result"
    },
    {
     "data": {
      "image/png": "[encoded data removed]",
      "text/plain": [
       "<matplotlib.figure.Figure at 0x24a8b81c8d0>"
      ]
     },
     "metadata": {},
     "output_type": "display_data"
    }
   ],
   "source": [
    "plt.plot(train_cost, label=\"Train cost\")\n",
    "plt.plot(CV_cost, label=\"CV cost\")\n",
    "plt.title(\"Cost of CV and train set over epochs\")\n",
    "plt.legend()"
   ]
  }
 ],
 "metadata": {
  "anaconda-cloud": {},
  "kernelspec": {
   "display_name": "Python deep learning",
   "language": "python",
   "name": "deeplearning"
  },
  "language_info": {
   "codemirror_mode": {
    "name": "ipython",
    "version": 3
   },
   "file_extension": ".py",
   "mimetype": "text/x-python",
   "name": "python",
   "nbconvert_exporter": "python",
   "pygments_lexer": "ipython3",
   "version": "3.5.4"
  }
 },
 "nbformat": 4,
 "nbformat_minor": 1
}
