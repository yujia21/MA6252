{
 "cells": [
  {
   "cell_type": "markdown",
   "metadata": {
    "collapsed": true
   },
   "source": [
    "# Logistic Regression Example\n",
    "\n",
    "A logistic regression learning algorithm example using TensorFlow library.\n",
    "This example is using the MNIST database of handwritten digits (http://yann.lecun.com/exdb/mnist/)\n",
    "\n",
    "- Author: Aymeric Damien\n",
    "- Project: https://github.com/aymericdamien/TensorFlow-Examples/"
   ]
  },
  {
   "cell_type": "code",
   "execution_count": 1,
   "metadata": {
    "collapsed": false
   },
   "outputs": [
    {
     "name": "stdout",
     "output_type": "stream",
     "text": [
      "Extracting /tmp/data/train-images-idx3-ubyte.gz\n",
      "Extracting /tmp/data/train-labels-idx1-ubyte.gz\n",
      "Extracting /tmp/data/t10k-images-idx3-ubyte.gz\n",
      "Extracting /tmp/data/t10k-labels-idx1-ubyte.gz\n"
     ]
    }
   ],
   "source": [
    "import tensorflow as tf\n",
    "import numpy as np\n",
    "\n",
    "# Import MINST data\n",
    "from tensorflow.examples.tutorials.mnist import input_data\n",
    "mnist = input_data.read_data_sets(\"/tmp/data/\", one_hot=True)"
   ]
  },
  {
   "cell_type": "code",
   "execution_count": 2,
   "metadata": {
    "collapsed": false
   },
   "outputs": [],
   "source": [
    "# data augment here\n",
    "#plus_matrix=np.eye(28)\n",
    "#minus_matrix=np.eye(28)\n",
    "import scipy\n",
    "n_samples=200\n",
    "degree=10\n",
    "shift=2\n",
    "\n",
    "original=mnist.train.images[:n_samples]\n",
    "new_plus = np.zeros(original.shape)\n",
    "new_minus = np.zeros(original.shape)\n",
    "\n",
    "for i in range(original.shape[0]):\n",
    "    reshaped=original[i,:].reshape((28, 28))\n",
    "    new_plus[i,:] = scipy.ndimage.interpolation.rotate(reshaped, degree, reshape=False).reshape((1,784))\n",
    "    #np.roll(, shift, axis=1).reshape((1,784))\n",
    "    new_minus[i,:] =  scipy.ndimage.interpolation.rotate(reshaped, -degree, reshape=False).reshape((1,784))\n",
    "    #np.roll(original[i,:].reshape((28, 28)), -shift, axis=1).reshape((1,784))\n",
    "    \n",
    "new_train_labels = np.concatenate((mnist.train.labels[:n_samples], mnist.train.labels[:n_samples], mnist.train.labels[:n_samples]))\n",
    "new_train_images = np.concatenate((mnist.train.images[:n_samples], new_plus, new_minus))\n",
    "assert(new_train_images.shape[0] == new_train_labels.shape[0])"
   ]
  },
  {
   "cell_type": "code",
   "execution_count": 3,
   "metadata": {
    "collapsed": true
   },
   "outputs": [],
   "source": [
    "# Parameters\n",
    "learning_rate = 0.01\n",
    "training_epochs = 1000\n",
    "display_step = 5\n",
    "\n",
    "# tf Graph Input\n",
    "x = tf.placeholder(tf.float32, [None, 784]) # mnist data image of shape 28*28=784\n",
    "y = tf.placeholder(tf.float32, [None, 10]) # 0-9 digits recognition => 10 classes\n",
    "\n",
    "# Set model weights\n",
    "W = tf.Variable(tf.zeros([784, 10]))\n",
    "b = tf.Variable(tf.zeros([10]))\n",
    "\n",
    "# Construct model\n",
    "pred = tf.nn.softmax(tf.matmul(x, W) + b) # Softmax\n",
    "\n",
    "# Minimize error using cross entropy\n",
    "cost = tf.reduce_mean(-tf.reduce_sum(y*tf.log(pred), reduction_indices=1)) \n",
    "\n",
    "# Gradient Descent\n",
    "optimizer = tf.train.GradientDescentOptimizer(learning_rate).minimize(cost)\n",
    "\n",
    "# Initialize the variables (i.e. assign their default value)\n",
    "init = tf.global_variables_initializer()"
   ]
  },
  {
   "cell_type": "code",
   "execution_count": 8,
   "metadata": {
    "collapsed": false,
    "scrolled": true
   },
   "outputs": [
    {
     "name": "stdout",
     "output_type": "stream",
     "text": [
      "Epoch: 0005 cost= 2.237589359\n",
      "Epoch: 0010 cost= 2.162993193\n",
      "Epoch: 0015 cost= 2.094345331\n",
      "Epoch: 0020 cost= 2.030549049\n",
      "Epoch: 0025 cost= 1.970825315\n",
      "Epoch: 0030 cost= 1.914611816\n",
      "Epoch: 0035 cost= 1.861493826\n",
      "Epoch: 0040 cost= 1.811157227\n",
      "Epoch: 0045 cost= 1.763355732\n",
      "Epoch: 0050 cost= 1.717889071\n",
      "Epoch: 0055 cost= 1.674589396\n",
      "Epoch: 0060 cost= 1.633312702\n",
      "Epoch: 0065 cost= 1.593930721\n",
      "Epoch: 0070 cost= 1.556328773\n",
      "Epoch: 0075 cost= 1.520402193\n",
      "Epoch: 0080 cost= 1.486055851\n",
      "Epoch: 0085 cost= 1.453200579\n",
      "Epoch: 0090 cost= 1.421754003\n",
      "Epoch: 0095 cost= 1.391639113\n",
      "Epoch: 0100 cost= 1.362784147\n",
      "Epoch: 0105 cost= 1.335121155\n",
      "Epoch: 0110 cost= 1.308587074\n",
      "Epoch: 0115 cost= 1.283121943\n",
      "Epoch: 0120 cost= 1.258669734\n",
      "Epoch: 0125 cost= 1.235177755\n",
      "Epoch: 0130 cost= 1.212595820\n",
      "Epoch: 0135 cost= 1.190877080\n",
      "Epoch: 0140 cost= 1.169977546\n",
      "Epoch: 0145 cost= 1.149855256\n",
      "Epoch: 0150 cost= 1.130470872\n",
      "Epoch: 0155 cost= 1.111787438\n",
      "Epoch: 0160 cost= 1.093770266\n",
      "Epoch: 0165 cost= 1.076385975\n",
      "Epoch: 0170 cost= 1.059603691\n",
      "Epoch: 0175 cost= 1.043394208\n",
      "Epoch: 0180 cost= 1.027729750\n",
      "Epoch: 0185 cost= 1.012584448\n",
      "Epoch: 0190 cost= 0.997933507\n",
      "Epoch: 0195 cost= 0.983753979\n",
      "Epoch: 0200 cost= 0.970024049\n",
      "Epoch: 0205 cost= 0.956722558\n",
      "Epoch: 0210 cost= 0.943830550\n",
      "Epoch: 0215 cost= 0.931329370\n",
      "Epoch: 0220 cost= 0.919201612\n",
      "Epoch: 0225 cost= 0.907430887\n",
      "Epoch: 0230 cost= 0.896001458\n",
      "Epoch: 0235 cost= 0.884898841\n",
      "Epoch: 0240 cost= 0.874108970\n",
      "Epoch: 0245 cost= 0.863618672\n",
      "Epoch: 0250 cost= 0.853415549\n",
      "Epoch: 0255 cost= 0.843487620\n",
      "Epoch: 0260 cost= 0.833823860\n",
      "Epoch: 0265 cost= 0.824413538\n",
      "Epoch: 0270 cost= 0.815246403\n",
      "Epoch: 0275 cost= 0.806313038\n",
      "Epoch: 0280 cost= 0.797604442\n",
      "Epoch: 0285 cost= 0.789111793\n",
      "Epoch: 0290 cost= 0.780826867\n",
      "Epoch: 0295 cost= 0.772742093\n",
      "Epoch: 0300 cost= 0.764849842\n",
      "Epoch: 0305 cost= 0.757142961\n",
      "Epoch: 0310 cost= 0.749614894\n",
      "Epoch: 0315 cost= 0.742259085\n",
      "Epoch: 0320 cost= 0.735069454\n",
      "Epoch: 0325 cost= 0.728040338\n",
      "Epoch: 0330 cost= 0.721165776\n",
      "Epoch: 0335 cost= 0.714440942\n",
      "Epoch: 0340 cost= 0.707860172\n",
      "Epoch: 0345 cost= 0.701419234\n",
      "Epoch: 0350 cost= 0.695113122\n",
      "Epoch: 0355 cost= 0.688937366\n",
      "Epoch: 0360 cost= 0.682888031\n",
      "Epoch: 0365 cost= 0.676960766\n",
      "Epoch: 0370 cost= 0.671151757\n",
      "Epoch: 0375 cost= 0.665457368\n",
      "Epoch: 0380 cost= 0.659874022\n",
      "Epoch: 0385 cost= 0.654398143\n",
      "Epoch: 0390 cost= 0.649026632\n",
      "Epoch: 0395 cost= 0.643756270\n",
      "Epoch: 0400 cost= 0.638583958\n",
      "Epoch: 0405 cost= 0.633506954\n",
      "Epoch: 0410 cost= 0.628522396\n",
      "Epoch: 0415 cost= 0.623627603\n",
      "Epoch: 0420 cost= 0.618819952\n",
      "Epoch: 0425 cost= 0.614097118\n",
      "Epoch: 0430 cost= 0.609456539\n",
      "Epoch: 0435 cost= 0.604896069\n",
      "Epoch: 0440 cost= 0.600413382\n",
      "Epoch: 0445 cost= 0.596006453\n",
      "Epoch: 0450 cost= 0.591673255\n",
      "Epoch: 0455 cost= 0.587411821\n",
      "Epoch: 0460 cost= 0.583220005\n",
      "Epoch: 0465 cost= 0.579096198\n",
      "Epoch: 0470 cost= 0.575038671\n",
      "Epoch: 0475 cost= 0.571045637\n",
      "Epoch: 0480 cost= 0.567115486\n",
      "Epoch: 0485 cost= 0.563246548\n",
      "Epoch: 0490 cost= 0.559437275\n",
      "Epoch: 0495 cost= 0.555686355\n",
      "Epoch: 0500 cost= 0.551992238\n",
      "Epoch: 0505 cost= 0.548353493\n",
      "Epoch: 0510 cost= 0.544768810\n",
      "Epoch: 0515 cost= 0.541237116\n",
      "Epoch: 0520 cost= 0.537756741\n",
      "Epoch: 0525 cost= 0.534326792\n",
      "Epoch: 0530 cost= 0.530945957\n",
      "Epoch: 0535 cost= 0.527613163\n",
      "Epoch: 0540 cost= 0.524327219\n",
      "Epoch: 0545 cost= 0.521087289\n",
      "Epoch: 0550 cost= 0.517892003\n",
      "Epoch: 0555 cost= 0.514740527\n",
      "Epoch: 0560 cost= 0.511631906\n",
      "Epoch: 0565 cost= 0.508565247\n",
      "Epoch: 0570 cost= 0.505539536\n",
      "Epoch: 0575 cost= 0.502553821\n",
      "Epoch: 0580 cost= 0.499607444\n",
      "Epoch: 0585 cost= 0.496699452\n",
      "Epoch: 0590 cost= 0.493828952\n",
      "Epoch: 0595 cost= 0.490995377\n",
      "Epoch: 0600 cost= 0.488197684\n",
      "Epoch: 0605 cost= 0.485435367\n",
      "Epoch: 0610 cost= 0.482707679\n",
      "Epoch: 0615 cost= 0.480013698\n",
      "Epoch: 0620 cost= 0.477352917\n",
      "Epoch: 0625 cost= 0.474724680\n",
      "Epoch: 0630 cost= 0.472128361\n",
      "Epoch: 0635 cost= 0.469563186\n",
      "Epoch: 0640 cost= 0.467028737\n",
      "Epoch: 0645 cost= 0.464524180\n",
      "Epoch: 0650 cost= 0.462049127\n",
      "Epoch: 0655 cost= 0.459603071\n",
      "Epoch: 0660 cost= 0.457185179\n",
      "Epoch: 0665 cost= 0.454795152\n",
      "Epoch: 0670 cost= 0.452432364\n",
      "Epoch: 0675 cost= 0.450096428\n",
      "Epoch: 0680 cost= 0.447786689\n",
      "Epoch: 0685 cost= 0.445502788\n",
      "Epoch: 0690 cost= 0.443244159\n",
      "Epoch: 0695 cost= 0.441010445\n",
      "Epoch: 0700 cost= 0.438801110\n",
      "Epoch: 0705 cost= 0.436615705\n",
      "Epoch: 0710 cost= 0.434453875\n",
      "Epoch: 0715 cost= 0.432315230\n",
      "Epoch: 0720 cost= 0.430199265\n",
      "Epoch: 0725 cost= 0.428105712\n",
      "Epoch: 0730 cost= 0.426034003\n",
      "Epoch: 0735 cost= 0.423983991\n",
      "Epoch: 0740 cost= 0.421955079\n",
      "Epoch: 0745 cost= 0.419947058\n",
      "Epoch: 0750 cost= 0.417959481\n",
      "Epoch: 0755 cost= 0.415992051\n",
      "Epoch: 0760 cost= 0.414044499\n",
      "Epoch: 0765 cost= 0.412116408\n",
      "Epoch: 0770 cost= 0.410207480\n",
      "Epoch: 0775 cost= 0.408317417\n",
      "Epoch: 0780 cost= 0.406445861\n",
      "Epoch: 0785 cost= 0.404592544\n",
      "Epoch: 0790 cost= 0.402757257\n",
      "Epoch: 0795 cost= 0.400939643\n",
      "Epoch: 0800 cost= 0.399139315\n",
      "Epoch: 0805 cost= 0.397356182\n",
      "Epoch: 0810 cost= 0.395589858\n",
      "Epoch: 0815 cost= 0.393840104\n",
      "Epoch: 0820 cost= 0.392106742\n",
      "Epoch: 0825 cost= 0.390389442\n",
      "Epoch: 0830 cost= 0.388687968\n",
      "Epoch: 0835 cost= 0.387002110\n",
      "Epoch: 0840 cost= 0.385331571\n",
      "Epoch: 0845 cost= 0.383676142\n",
      "Epoch: 0850 cost= 0.382035643\n",
      "Epoch: 0855 cost= 0.380409777\n",
      "Epoch: 0860 cost= 0.378798395\n",
      "Epoch: 0865 cost= 0.377201259\n",
      "Epoch: 0870 cost= 0.375618160\n",
      "Epoch: 0875 cost= 0.374049008\n",
      "Epoch: 0880 cost= 0.372493446\n",
      "Epoch: 0885 cost= 0.370951235\n",
      "Epoch: 0890 cost= 0.369422317\n",
      "Epoch: 0895 cost= 0.367906481\n",
      "Epoch: 0900 cost= 0.366403490\n",
      "Epoch: 0905 cost= 0.364913255\n",
      "Epoch: 0910 cost= 0.363435507\n",
      "Epoch: 0915 cost= 0.361970097\n",
      "Epoch: 0920 cost= 0.360516846\n",
      "Epoch: 0925 cost= 0.359075665\n",
      "Epoch: 0930 cost= 0.357646257\n",
      "Epoch: 0935 cost= 0.356228590\n",
      "Epoch: 0940 cost= 0.354822427\n",
      "Epoch: 0945 cost= 0.353427589\n",
      "Epoch: 0950 cost= 0.352044016\n",
      "Epoch: 0955 cost= 0.350671530\n",
      "Epoch: 0960 cost= 0.349309921\n",
      "Epoch: 0965 cost= 0.347959101\n",
      "Epoch: 0970 cost= 0.346618891\n",
      "Epoch: 0975 cost= 0.345289201\n",
      "Epoch: 0980 cost= 0.343969882\n",
      "Epoch: 0985 cost= 0.342660755\n",
      "Epoch: 0990 cost= 0.341361731\n",
      "Epoch: 0995 cost= 0.340072662\n",
      "Epoch: 1000 cost= 0.338793516\n",
      "Optimization Finished!\n",
      "Test Accuracy: 0.7898\n"
     ]
    }
   ],
   "source": [
    "# Start training\n",
    "CV_accuracy = []\n",
    "CV_epoch = []\n",
    "train_cost = []\n",
    "CV_cost = []\n",
    "test_accuracy = []\n",
    "with tf.Session() as sess:\n",
    "    sess.run(init)\n",
    "\n",
    "    # Training cycle\n",
    "    for epoch in range(training_epochs):\n",
    "        #_, avg_cost = sess.run([optimizer, cost], feed_dict={x: new_train_images,y: new_train_labels})\n",
    "        _, avg_cost = sess.run([optimizer, cost], feed_dict={x: mnist.train.images[:n_samples],y: mnist.train.labels[:n_samples]})\n",
    "\n",
    "        train_cost = train_cost + [avg_cost]\n",
    "        CV_cost = CV_cost + [sess.run(cost, feed_dict = {x: mnist.validation.images, y: mnist.validation.labels})]\n",
    "        # Display logs per epoch step\n",
    "        if (epoch+1) % display_step == 0:\n",
    "            print(\"Epoch:\", '%04d' % (epoch+1), \"cost=\", \"{:.9f}\".format(avg_cost))\n",
    "        \n",
    "        if ((epoch+1)%10 == 0):\n",
    "            # Test model\n",
    "            correct_prediction = tf.equal(tf.argmax(pred, 1), tf.argmax(y, 1))\n",
    "            # Calculate accuracy for CV and test set\n",
    "            accuracy = tf.reduce_mean(tf.cast(correct_prediction, tf.float32))\n",
    "            cv_acc = accuracy.eval({x: mnist.validation.images[:100], y: mnist.validation.labels[:100]})\n",
    "            test_acc = accuracy.eval({x: mnist.test.images[:500], y: mnist.test.labels[:500]})\n",
    "            CV_accuracy = CV_accuracy + [cv_acc]\n",
    "            test_accuracy = test_accuracy + [test_acc]\n",
    "            CV_epoch = CV_epoch + [epoch]\n",
    "    print(\"Optimization Finished!\")\n",
    "\n",
    "    # Test model\n",
    "    correct_prediction = tf.equal(tf.argmax(pred, 1), tf.argmax(y, 1))\n",
    "    # Calculate accuracy for test examples\n",
    "    accuracy = tf.reduce_mean(tf.cast(correct_prediction, tf.float32))\n",
    "    print(\"Test Accuracy:\", accuracy.eval({x: mnist.test.images[5000:], y: mnist.test.labels[5000:]}))"
   ]
  },
  {
   "cell_type": "code",
   "execution_count": 9,
   "metadata": {
    "collapsed": false
   },
   "outputs": [
    {
     "data": {
      "text/plain": [
       "<matplotlib.legend.Legend at 0x2cc3ab178d0>"
      ]
     },
     "execution_count": 9,
     "metadata": {},
     "output_type": "execute_result"
    },
    {
     "data": {
      "image/png": "[encoded data removed]",
      "text/plain": [
       "<matplotlib.figure.Figure at 0x2cc39e721d0>"
      ]
     },
     "metadata": {},
     "output_type": "display_data"
    }
   ],
   "source": [
    "import matplotlib.pyplot as plt\n",
    "%matplotlib inline\n",
    "plt.plot(CV_epoch,CV_accuracy,label=\"Test set accuracy\")\n",
    "#plt.plot(CV_epoch,test_accuracy,label=\"Test set accuracy\")\n",
    "plt.title(\"Accuracy over epochs without data augmentation\")\n",
    "plt.legend()"
   ]
  },
  {
   "cell_type": "code",
   "execution_count": 95,
   "metadata": {
    "collapsed": false
   },
   "outputs": [
    {
     "data": {
      "text/plain": [
       "<matplotlib.legend.Legend at 0x248c3709a90>"
      ]
     },
     "execution_count": 95,
     "metadata": {},
     "output_type": "execute_result"
    },
    {
     "data": {
      "image/png": "[encoded data removed]",
      "text/plain": [
       "<matplotlib.figure.Figure at 0x248c36b7630>"
      ]
     },
     "metadata": {},
     "output_type": "display_data"
    }
   ],
   "source": [
    "plt.plot(train_cost, label=\"Train cost\")\n",
    "plt.plot(CV_cost, label=\"CV cost\")\n",
    "plt.title(\"Cost over epochs with data augmentation\")\n",
    "plt.legend()"
   ]
  },
  {
   "cell_type": "code",
   "execution_count": 97,
   "metadata": {
    "collapsed": false
   },
   "outputs": [
    {
     "data": {
      "image/png": "[encoded data removed]",
      "text/plain": [
       "<matplotlib.figure.Figure at 0x248c37a7630>"
      ]
     },
     "metadata": {},
     "output_type": "display_data"
    }
   ],
   "source": [
    "import matplotlib.pyplot as plt\n",
    "\n",
    "# The rest of columns are pixels\n",
    "pixels = new_train_images[2000,:]\n",
    "pixels = pixels.reshape((28, 28))\n",
    "\n",
    "# Plot\n",
    "plt.imshow(pixels, cmap='gray')\n",
    "plt.show()"
   ]
  },
  {
   "cell_type": "code",
   "execution_count": 101,
   "metadata": {
    "collapsed": false
   },
   "outputs": [
    {
     "data": {
      "image/png": "[encoded data removed]",
      "text/plain": [
       "<matplotlib.figure.Figure at 0x248c56806a0>"
      ]
     },
     "metadata": {},
     "output_type": "display_data"
    }
   ],
   "source": [
    "pixels = new_train_images[0,:]\n",
    "pixels = pixels.reshape((28, 28))\n",
    "\n",
    "# Plot\n",
    "plt.imshow(pixels, cmap='gray')\n",
    "plt.show()"
   ]
  }
 ],
 "metadata": {
  "anaconda-cloud": {},
  "kernelspec": {
   "display_name": "Python deep learning",
   "language": "python",
   "name": "deeplearning"
  },
  "language_info": {
   "codemirror_mode": {
    "name": "ipython",
    "version": 3
   },
   "file_extension": ".py",
   "mimetype": "text/x-python",
   "name": "python",
   "nbconvert_exporter": "python",
   "pygments_lexer": "ipython3",
   "version": "3.5.4"
  }
 },
 "nbformat": 4,
 "nbformat_minor": 1
}
