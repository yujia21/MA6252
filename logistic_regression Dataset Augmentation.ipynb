{
 "cells": [
  {
   "cell_type": "markdown",
   "metadata": {
    "collapsed": true
   },
   "source": [
    "# Logistic Regression Example\n",
    "\n",
    "A logistic regression learning algorithm example using TensorFlow library.\n",
    "This example is using the MNIST database of handwritten digits (http://yann.lecun.com/exdb/mnist/)\n",
    "\n",
    "- Author: Aymeric Damien\n",
    "- Project: https://github.com/aymericdamien/TensorFlow-Examples/"
   ]
  },
  {
   "cell_type": "code",
   "execution_count": 1,
   "metadata": {
    "collapsed": false
   },
   "outputs": [
    {
     "name": "stdout",
     "output_type": "stream",
     "text": [
      "Extracting /tmp/data/train-images-idx3-ubyte.gz\n",
      "Extracting /tmp/data/train-labels-idx1-ubyte.gz\n",
      "Extracting /tmp/data/t10k-images-idx3-ubyte.gz\n",
      "Extracting /tmp/data/t10k-labels-idx1-ubyte.gz\n"
     ]
    }
   ],
   "source": [
    "import tensorflow as tf\n",
    "import numpy as np\n",
    "\n",
    "# Import MINST data\n",
    "from tensorflow.examples.tutorials.mnist import input_data\n",
    "mnist = input_data.read_data_sets(\"/tmp/data/\", one_hot=True)"
   ]
  },
  {
   "cell_type": "code",
   "execution_count": 84,
   "metadata": {
    "collapsed": false
   },
   "outputs": [],
   "source": [
    "# data augment here\n",
    "#plus_matrix=np.eye(28)\n",
    "#minus_matrix=np.eye(28)\n",
    "import scipy\n",
    "n_samples=2000\n",
    "degree=10\n",
    "shift=2\n",
    "\n",
    "original=mnist.train.images[:n_samples]\n",
    "new_plus = np.zeros(original.shape)\n",
    "new_minus = np.zeros(original.shape)\n",
    "\n",
    "for i in range(original.shape[0]):\n",
    "    reshaped=original[i,:].reshape((28, 28))\n",
    "    new_plus[i,:] = scipy.ndimage.interpolation.rotate(reshaped, degree, reshape=False).reshape((1,784))\n",
    "    #np.roll(, shift, axis=1).reshape((1,784))\n",
    "    new_minus[i,:] =  scipy.ndimage.interpolation.rotate(reshaped, -degree, reshape=False).reshape((1,784))\n",
    "    #np.roll(original[i,:].reshape((28, 28)), -shift, axis=1).reshape((1,784))\n",
    "    \n",
    "new_train_labels = np.concatenate((mnist.train.labels[:n_samples], mnist.train.labels[:n_samples], mnist.train.labels[:n_samples]))\n",
    "new_train_images = np.concatenate((mnist.train.images[:n_samples], new_plus, new_minus))\n",
    "assert(new_train_images.shape[0] == new_train_labels.shape[0])"
   ]
  },
  {
   "cell_type": "code",
   "execution_count": 91,
   "metadata": {
    "collapsed": true
   },
   "outputs": [],
   "source": [
    "# Parameters\n",
    "learning_rate = 0.01\n",
    "training_epochs = 1000\n",
    "display_step = 5\n",
    "\n",
    "# tf Graph Input\n",
    "x = tf.placeholder(tf.float32, [None, 784]) # mnist data image of shape 28*28=784\n",
    "y = tf.placeholder(tf.float32, [None, 10]) # 0-9 digits recognition => 10 classes\n",
    "\n",
    "# Set model weights\n",
    "W = tf.Variable(tf.zeros([784, 10]))\n",
    "b = tf.Variable(tf.zeros([10]))\n",
    "\n",
    "# Construct model\n",
    "pred = tf.nn.softmax(tf.matmul(x, W) + b) # Softmax\n",
    "\n",
    "# Minimize error using cross entropy\n",
    "cost = tf.reduce_mean(-tf.reduce_sum(y*tf.log(pred), reduction_indices=1)) \n",
    "\n",
    "# Gradient Descent\n",
    "optimizer = tf.train.GradientDescentOptimizer(learning_rate).minimize(cost)\n",
    "\n",
    "# Initialize the variables (i.e. assign their default value)\n",
    "init = tf.global_variables_initializer()"
   ]
  },
  {
   "cell_type": "code",
   "execution_count": 92,
   "metadata": {
    "collapsed": false,
    "scrolled": true
   },
   "outputs": [
    {
     "name": "stdout",
     "output_type": "stream",
     "text": [
      "Epoch: 0005 cost= 2.252252817\n",
      "Epoch: 0010 cost= 2.192643166\n",
      "Epoch: 0015 cost= 2.136150360\n",
      "Epoch: 0020 cost= 2.082368612\n",
      "Epoch: 0025 cost= 2.031017065\n",
      "Epoch: 0030 cost= 1.981898665\n",
      "Epoch: 0035 cost= 1.934865713\n",
      "Epoch: 0040 cost= 1.889799714\n",
      "Epoch: 0045 cost= 1.846604705\n",
      "Epoch: 0050 cost= 1.805193305\n",
      "Epoch: 0055 cost= 1.765490770\n",
      "Epoch: 0060 cost= 1.727421880\n",
      "Epoch: 0065 cost= 1.690917850\n",
      "Epoch: 0070 cost= 1.655911088\n",
      "Epoch: 0075 cost= 1.622337937\n",
      "Epoch: 0080 cost= 1.590134740\n",
      "Epoch: 0085 cost= 1.559239984\n",
      "Epoch: 0090 cost= 1.529594541\n",
      "Epoch: 0095 cost= 1.501140594\n",
      "Epoch: 0100 cost= 1.473823428\n",
      "Epoch: 0105 cost= 1.447589874\n",
      "Epoch: 0110 cost= 1.422387123\n",
      "Epoch: 0115 cost= 1.398167968\n",
      "Epoch: 0120 cost= 1.374883413\n",
      "Epoch: 0125 cost= 1.352489829\n",
      "Epoch: 0130 cost= 1.330943346\n",
      "Epoch: 0135 cost= 1.310203910\n",
      "Epoch: 0140 cost= 1.290232897\n",
      "Epoch: 0145 cost= 1.270992637\n",
      "Epoch: 0150 cost= 1.252448201\n",
      "Epoch: 0155 cost= 1.234567404\n",
      "Epoch: 0160 cost= 1.217317343\n",
      "Epoch: 0165 cost= 1.200669169\n",
      "Epoch: 0170 cost= 1.184594750\n",
      "Epoch: 0175 cost= 1.169066906\n",
      "Epoch: 0180 cost= 1.154060483\n",
      "Epoch: 0185 cost= 1.139551282\n",
      "Epoch: 0190 cost= 1.125517368\n",
      "Epoch: 0195 cost= 1.111936331\n",
      "Epoch: 0200 cost= 1.098787785\n",
      "Epoch: 0205 cost= 1.086053848\n",
      "Epoch: 0210 cost= 1.073715329\n",
      "Epoch: 0215 cost= 1.061754227\n",
      "Epoch: 0220 cost= 1.050156474\n",
      "Epoch: 0225 cost= 1.038903832\n",
      "Epoch: 0230 cost= 1.027983785\n",
      "Epoch: 0235 cost= 1.017380953\n",
      "Epoch: 0240 cost= 1.007082701\n",
      "Epoch: 0245 cost= 0.997076392\n",
      "Epoch: 0250 cost= 0.987350821\n",
      "Epoch: 0255 cost= 0.977893412\n",
      "Epoch: 0260 cost= 0.968693912\n",
      "Epoch: 0265 cost= 0.959742486\n",
      "Epoch: 0270 cost= 0.951029420\n",
      "Epoch: 0275 cost= 0.942545056\n",
      "Epoch: 0280 cost= 0.934280813\n",
      "Epoch: 0285 cost= 0.926228642\n",
      "Epoch: 0290 cost= 0.918380082\n",
      "Epoch: 0295 cost= 0.910727024\n",
      "Epoch: 0300 cost= 0.903263569\n",
      "Epoch: 0305 cost= 0.895982325\n",
      "Epoch: 0310 cost= 0.888876081\n",
      "Epoch: 0315 cost= 0.881939530\n",
      "Epoch: 0320 cost= 0.875166118\n",
      "Epoch: 0325 cost= 0.868550181\n",
      "Epoch: 0330 cost= 0.862085879\n",
      "Epoch: 0335 cost= 0.855768681\n",
      "Epoch: 0340 cost= 0.849593341\n",
      "Epoch: 0345 cost= 0.843555152\n",
      "Epoch: 0350 cost= 0.837648928\n",
      "Epoch: 0355 cost= 0.831871629\n",
      "Epoch: 0360 cost= 0.826217592\n",
      "Epoch: 0365 cost= 0.820683599\n",
      "Epoch: 0370 cost= 0.815265596\n",
      "Epoch: 0375 cost= 0.809959948\n",
      "Epoch: 0380 cost= 0.804763496\n",
      "Epoch: 0385 cost= 0.799672127\n",
      "Epoch: 0390 cost= 0.794683099\n",
      "Epoch: 0395 cost= 0.789793074\n",
      "Epoch: 0400 cost= 0.784998894\n",
      "Epoch: 0405 cost= 0.780297697\n",
      "Epoch: 0410 cost= 0.775687516\n",
      "Epoch: 0415 cost= 0.771164656\n",
      "Epoch: 0420 cost= 0.766726911\n",
      "Epoch: 0425 cost= 0.762372434\n",
      "Epoch: 0430 cost= 0.758097827\n",
      "Epoch: 0435 cost= 0.753901184\n",
      "Epoch: 0440 cost= 0.749780536\n",
      "Epoch: 0445 cost= 0.745733500\n",
      "Epoch: 0450 cost= 0.741757929\n",
      "Epoch: 0455 cost= 0.737852514\n",
      "Epoch: 0460 cost= 0.734014750\n",
      "Epoch: 0465 cost= 0.730243325\n",
      "Epoch: 0470 cost= 0.726535499\n",
      "Epoch: 0475 cost= 0.722890496\n",
      "Epoch: 0480 cost= 0.719306648\n",
      "Epoch: 0485 cost= 0.715781689\n",
      "Epoch: 0490 cost= 0.712314785\n",
      "Epoch: 0495 cost= 0.708904147\n",
      "Epoch: 0500 cost= 0.705548465\n",
      "Epoch: 0505 cost= 0.702245712\n",
      "Epoch: 0510 cost= 0.698995769\n",
      "Epoch: 0515 cost= 0.695796490\n",
      "Epoch: 0520 cost= 0.692646325\n",
      "Epoch: 0525 cost= 0.689545155\n",
      "Epoch: 0530 cost= 0.686491251\n",
      "Epoch: 0535 cost= 0.683483303\n",
      "Epoch: 0540 cost= 0.680519998\n",
      "Epoch: 0545 cost= 0.677600980\n",
      "Epoch: 0550 cost= 0.674725056\n",
      "Epoch: 0555 cost= 0.671890736\n",
      "Epoch: 0560 cost= 0.669097424\n",
      "Epoch: 0565 cost= 0.666344106\n",
      "Epoch: 0570 cost= 0.663629889\n",
      "Epoch: 0575 cost= 0.660954118\n",
      "Epoch: 0580 cost= 0.658315420\n",
      "Epoch: 0585 cost= 0.655713618\n",
      "Epoch: 0590 cost= 0.653147280\n",
      "Epoch: 0595 cost= 0.650615990\n",
      "Epoch: 0600 cost= 0.648118913\n",
      "Epoch: 0605 cost= 0.645655274\n",
      "Epoch: 0610 cost= 0.643224359\n",
      "Epoch: 0615 cost= 0.640825570\n",
      "Epoch: 0620 cost= 0.638458133\n",
      "Epoch: 0625 cost= 0.636121213\n",
      "Epoch: 0630 cost= 0.633814812\n",
      "Epoch: 0635 cost= 0.631537616\n",
      "Epoch: 0640 cost= 0.629289269\n",
      "Epoch: 0645 cost= 0.627069473\n",
      "Epoch: 0650 cost= 0.624877095\n",
      "Epoch: 0655 cost= 0.622712135\n",
      "Epoch: 0660 cost= 0.620573342\n",
      "Epoch: 0665 cost= 0.618461311\n",
      "Epoch: 0670 cost= 0.616374552\n",
      "Epoch: 0675 cost= 0.614312828\n",
      "Epoch: 0680 cost= 0.612275600\n",
      "Epoch: 0685 cost= 0.610262752\n",
      "Epoch: 0690 cost= 0.608273447\n",
      "Epoch: 0695 cost= 0.606307328\n",
      "Epoch: 0700 cost= 0.604364038\n",
      "Epoch: 0705 cost= 0.602443039\n",
      "Epoch: 0710 cost= 0.600544214\n",
      "Epoch: 0715 cost= 0.598666847\n",
      "Epoch: 0720 cost= 0.596810520\n",
      "Epoch: 0725 cost= 0.594974756\n",
      "Epoch: 0730 cost= 0.593159616\n",
      "Epoch: 0735 cost= 0.591364503\n",
      "Epoch: 0740 cost= 0.589589059\n",
      "Epoch: 0745 cost= 0.587832808\n",
      "Epoch: 0750 cost= 0.586095572\n",
      "Epoch: 0755 cost= 0.584377170\n",
      "Epoch: 0760 cost= 0.582676828\n",
      "Epoch: 0765 cost= 0.580994606\n",
      "Epoch: 0770 cost= 0.579330087\n",
      "Epoch: 0775 cost= 0.577682734\n",
      "Epoch: 0780 cost= 0.576052666\n",
      "Epoch: 0785 cost= 0.574439704\n",
      "Epoch: 0790 cost= 0.572842777\n",
      "Epoch: 0795 cost= 0.571262062\n",
      "Epoch: 0800 cost= 0.569697917\n",
      "Epoch: 0805 cost= 0.568149030\n",
      "Epoch: 0810 cost= 0.566615582\n",
      "Epoch: 0815 cost= 0.565097451\n",
      "Epoch: 0820 cost= 0.563594222\n",
      "Epoch: 0825 cost= 0.562105894\n",
      "Epoch: 0830 cost= 0.560631812\n",
      "Epoch: 0835 cost= 0.559172213\n",
      "Epoch: 0840 cost= 0.557726324\n",
      "Epoch: 0845 cost= 0.556294441\n",
      "Epoch: 0850 cost= 0.554875910\n",
      "Epoch: 0855 cost= 0.553471088\n",
      "Epoch: 0860 cost= 0.552079141\n",
      "Epoch: 0865 cost= 0.550700545\n",
      "Epoch: 0870 cost= 0.549334347\n",
      "Epoch: 0875 cost= 0.547980905\n",
      "Epoch: 0880 cost= 0.546639919\n",
      "Epoch: 0885 cost= 0.545310915\n",
      "Epoch: 0890 cost= 0.543993890\n",
      "Epoch: 0895 cost= 0.542689323\n",
      "Epoch: 0900 cost= 0.541395545\n",
      "Epoch: 0905 cost= 0.540113986\n",
      "Epoch: 0910 cost= 0.538843155\n",
      "Epoch: 0915 cost= 0.537584007\n",
      "Epoch: 0920 cost= 0.536335468\n",
      "Epoch: 0925 cost= 0.535097897\n",
      "Epoch: 0930 cost= 0.533870995\n",
      "Epoch: 0935 cost= 0.532654762\n",
      "Epoch: 0940 cost= 0.531448841\n",
      "Epoch: 0945 cost= 0.530252934\n",
      "Epoch: 0950 cost= 0.529067576\n",
      "Epoch: 0955 cost= 0.527891874\n",
      "Epoch: 0960 cost= 0.526725948\n",
      "Epoch: 0965 cost= 0.525569558\n",
      "Epoch: 0970 cost= 0.524423063\n",
      "Epoch: 0975 cost= 0.523285925\n",
      "Epoch: 0980 cost= 0.522157848\n",
      "Epoch: 0985 cost= 0.521039188\n",
      "Epoch: 0990 cost= 0.519929349\n",
      "Epoch: 0995 cost= 0.518828392\n",
      "Epoch: 1000 cost= 0.517736435\n",
      "Optimization Finished!\n",
      "Test Accuracy: 0.891\n"
     ]
    }
   ],
   "source": [
    "# Start training\n",
    "CV_accuracy = []\n",
    "CV_epoch = []\n",
    "train_cost = []\n",
    "CV_cost = []\n",
    "test_accuracy = []\n",
    "with tf.Session() as sess:\n",
    "    sess.run(init)\n",
    "\n",
    "    # Training cycle\n",
    "    for epoch in range(training_epochs):\n",
    "        #_, avg_cost = sess.run([optimizer, cost], feed_dict={x: new_train_images,\n",
    "        #                                                  y: new_train_labels})\n",
    "        _, avg_cost = sess.run([optimizer, cost], feed_dict={x: mnist.train.images[:n_samples],\n",
    "                                                          y: mnist.train.labels[:n_samples]})\n",
    "\n",
    "        train_cost = train_cost + [avg_cost]\n",
    "        CV_cost = CV_cost + [sess.run(cost, feed_dict = {x: mnist.validation.images, y: mnist.validation.labels})]\n",
    "        # Display logs per epoch step\n",
    "        if (epoch+1) % display_step == 0:\n",
    "            print(\"Epoch:\", '%04d' % (epoch+1), \"cost=\", \"{:.9f}\".format(avg_cost))\n",
    "        \n",
    "        if ((epoch+1)%10 == 0):\n",
    "            # Test model\n",
    "            correct_prediction = tf.equal(tf.argmax(pred, 1), tf.argmax(y, 1))\n",
    "            # Calculate accuracy for CV and test set\n",
    "            accuracy = tf.reduce_mean(tf.cast(correct_prediction, tf.float32))\n",
    "            cv_acc = accuracy.eval({x: mnist.validation.images[:100], y: mnist.validation.labels[:100]})\n",
    "            test_acc = accuracy.eval({x: mnist.test.images[:500], y: mnist.test.labels[:500]})\n",
    "            CV_accuracy = CV_accuracy + [cv_acc]\n",
    "            test_accuracy = test_accuracy + [test_acc]\n",
    "            CV_epoch = CV_epoch + [epoch]\n",
    "    print(\"Optimization Finished!\")\n",
    "\n",
    "    # Test model\n",
    "    correct_prediction = tf.equal(tf.argmax(pred, 1), tf.argmax(y, 1))\n",
    "    # Calculate accuracy for test examples\n",
    "    accuracy = tf.reduce_mean(tf.cast(correct_prediction, tf.float32))\n",
    "    print(\"Test Accuracy:\", accuracy.eval({x: mnist.test.images[5000:], y: mnist.test.labels[5000:]}))"
   ]
  },
  {
   "cell_type": "code",
   "execution_count": 93,
   "metadata": {
    "collapsed": false
   },
   "outputs": [
    {
     "data": {
      "text/plain": [
       "<matplotlib.legend.Legend at 0x248c35c17f0>"
      ]
     },
     "execution_count": 93,
     "metadata": {},
     "output_type": "execute_result"
    },
    {
     "data": {
      "image/png": "[encoded data removed]",
      "text/plain": [
       "<matplotlib.figure.Figure at 0x248b4b38e10>"
      ]
     },
     "metadata": {},
     "output_type": "display_data"
    }
   ],
   "source": [
    "import matplotlib.pyplot as plt\n",
    "%matplotlib inline\n",
    "plt.plot(CV_epoch,CV_accuracy,label=\"CV set accuracy\")\n",
    "plt.plot(CV_epoch,test_accuracy,label=\"Test set accuracy\")\n",
    "plt.title(\"Accuracy over epochs with data augmentation\")\n",
    "plt.legend()"
   ]
  },
  {
   "cell_type": "code",
   "execution_count": 95,
   "metadata": {
    "collapsed": false
   },
   "outputs": [
    {
     "data": {
      "text/plain": [
       "<matplotlib.legend.Legend at 0x248c3709a90>"
      ]
     },
     "execution_count": 95,
     "metadata": {},
     "output_type": "execute_result"
    },
    {
     "data": {
      "image/png": "[encoded data removed]",
      "text/plain": [
       "<matplotlib.figure.Figure at 0x248c36b7630>"
      ]
     },
     "metadata": {},
     "output_type": "display_data"
    }
   ],
   "source": [
    "plt.plot(train_cost, label=\"Train cost\")\n",
    "plt.plot(CV_cost, label=\"CV cost\")\n",
    "plt.title(\"Cost over epochs with data augmentation\")\n",
    "plt.legend()"
   ]
  },
  {
   "cell_type": "code",
   "execution_count": 97,
   "metadata": {
    "collapsed": false
   },
   "outputs": [
    {
     "data": {
      "image/png": "[encoded data removed]",
      "text/plain": [
       "<matplotlib.figure.Figure at 0x248c37a7630>"
      ]
     },
     "metadata": {},
     "output_type": "display_data"
    }
   ],
   "source": [
    "import matplotlib.pyplot as plt\n",
    "\n",
    "# The rest of columns are pixels\n",
    "pixels = new_train_images[2000,:]\n",
    "pixels = pixels.reshape((28, 28))\n",
    "\n",
    "# Plot\n",
    "plt.imshow(pixels, cmap='gray')\n",
    "plt.show()"
   ]
  },
  {
   "cell_type": "code",
   "execution_count": 101,
   "metadata": {
    "collapsed": false
   },
   "outputs": [
    {
     "data": {
      "image/png": "[encoded data removed]",
      "text/plain": [
       "<matplotlib.figure.Figure at 0x248c56806a0>"
      ]
     },
     "metadata": {},
     "output_type": "display_data"
    }
   ],
   "source": [
    "pixels = new_train_images[0,:]\n",
    "pixels = pixels.reshape((28, 28))\n",
    "\n",
    "# Plot\n",
    "plt.imshow(pixels, cmap='gray')\n",
    "plt.show()"
   ]
  }
 ],
 "metadata": {
  "anaconda-cloud": {},
  "kernelspec": {
   "display_name": "Python deep learning",
   "language": "python",
   "name": "deeplearning"
  },
  "language_info": {
   "codemirror_mode": {
    "name": "ipython",
    "version": 3
   },
   "file_extension": ".py",
   "mimetype": "text/x-python",
   "name": "python",
   "nbconvert_exporter": "python",
   "pygments_lexer": "ipython3",
   "version": "3.5.4"
  }
 },
 "nbformat": 4,
 "nbformat_minor": 1
}
