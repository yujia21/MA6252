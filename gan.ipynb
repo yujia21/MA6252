{
 "cells": [
  {
   "cell_type": "markdown",
   "metadata": {
    "collapsed": true
   },
   "source": [
    "# Generative Adversarial Network Example\n",
    "\n",
    "Build a generative adversarial network (GAN) to generate digit images from a noise distribution with TensorFlow.\n",
    "\n",
    "- Author: Aymeric Damien\n",
    "- Project: https://github.com/aymericdamien/TensorFlow-Examples/"
   ]
  },
  {
   "cell_type": "markdown",
   "metadata": {},
   "source": [
    "## GAN Overview\n",
    "\n",
    "<img src=\"http://www.timzhangyuxuan.com/static/images/project_DCGAN/structure.png\" alt=\"nn\" style=\"width: 800px;\"/>\n",
    "\n",
    "References:\n",
    "- [Generative adversarial nets](https://arxiv.org/pdf/1406.2661.pdf). I Goodfellow, J Pouget-Abadie, M Mirza, B Xu, D Warde-Farley, S Ozair, Y. Bengio. Advances in neural information processing systems, 2672-2680.\n",
    "- [Understanding the difficulty of training deep feedforward neural networks](http://proceedings.mlr.press/v9/glorot10a.html). X Glorot, Y Bengio. Aistats 9, 249-256\n",
    "\n",
    "Other tutorials:\n",
    "- [Generative Adversarial Networks Explained](http://kvfrans.com/generative-adversial-networks-explained/). Kevin Frans.\n",
    "\n",
    "## MNIST Dataset Overview\n",
    "\n",
    "This example is using MNIST handwritten digits. The dataset contains 60,000 examples for training and 10,000 examples for testing. The digits have been size-normalized and centered in a fixed-size image (28x28 pixels) with values from 0 to 1. For simplicity, each image has been flattened and converted to a 1-D numpy array of 784 features (28*28).\n",
    "\n",
    "![MNIST Dataset](http://neuralnetworksanddeeplearning.com/images/mnist_100_digits.png)\n",
    "\n",
    "More info: http://yann.lecun.com/exdb/mnist/"
   ]
  },
  {
   "cell_type": "code",
   "execution_count": 1,
   "metadata": {
    "collapsed": true
   },
   "outputs": [],
   "source": [
    "from __future__ import division, print_function, absolute_import\n",
    "\n",
    "import matplotlib.pyplot as plt\n",
    "import numpy as np\n",
    "import tensorflow as tf"
   ]
  },
  {
   "cell_type": "code",
   "execution_count": 2,
   "metadata": {
    "collapsed": false
   },
   "outputs": [
    {
     "name": "stdout",
     "output_type": "stream",
     "text": [
      "Extracting /tmp/data/train-images-idx3-ubyte.gz\n",
      "Extracting /tmp/data/train-labels-idx1-ubyte.gz\n",
      "Extracting /tmp/data/t10k-images-idx3-ubyte.gz\n",
      "Extracting /tmp/data/t10k-labels-idx1-ubyte.gz\n"
     ]
    }
   ],
   "source": [
    "# Import MNIST data\n",
    "from tensorflow.examples.tutorials.mnist import input_data\n",
    "mnist = input_data.read_data_sets(\"/tmp/data/\", one_hot=True)"
   ]
  },
  {
   "cell_type": "code",
   "execution_count": 3,
   "metadata": {
    "collapsed": true
   },
   "outputs": [],
   "source": [
    "train_classifier = False\n",
    "\n",
    "if train_classifier:\n",
    "    # Classifier parameters\n",
    "    C_learning_rate = 0.01\n",
    "    C_training_epochs = 200\n",
    "    C_batch_size = 100\n",
    "    C_display_step = 20\n",
    "\n",
    "    # tf Graph Input\n",
    "    x = tf.placeholder(tf.float32, [None, 784]) # mnist data image of shape 28*28=784\n",
    "    y = tf.placeholder(tf.float32, [None, 10]) # 0-9 digits recognition => 10 classes\n",
    "\n",
    "    # Set model weights\n",
    "    W = tf.Variable(tf.zeros([784, 10]))\n",
    "    b = tf.Variable(tf.zeros([10]))\n",
    "\n",
    "    # Construct model\n",
    "    C_pred = tf.nn.softmax(tf.matmul(x, W) + b) # Softmax\n",
    "\n",
    "    # Minimize error using cross entropy\n",
    "    C_cost = tf.reduce_mean(-tf.reduce_sum(y*tf.log(C_pred), reduction_indices=1)) \n",
    "\n",
    "    # Gradient Descent\n",
    "    C_optimizer = tf.train.GradientDescentOptimizer(C_learning_rate).minimize(C_cost)\n",
    "else:\n",
    "    W = tf.get_variable(\"W\", shape=[784,10])\n",
    "    b = tf.get_variable(\"b\", shape=[10])"
   ]
  },
  {
   "cell_type": "code",
   "execution_count": 4,
   "metadata": {
    "collapsed": true
   },
   "outputs": [],
   "source": [
    "# Training Params\n",
    "num_steps = 70000\n",
    "batch_size = 128\n",
    "learning_rate = 0.0002\n",
    "\n",
    "# Network Params\n",
    "image_dim = 784 # 28*28 pixels\n",
    "gen_hidden_dim = 256\n",
    "disc_hidden_dim = 256\n",
    "noise_dim = 100 # Noise data points\n",
    "\n",
    "# A custom initialization (see Xavier Glorot init)\n",
    "def glorot_init(shape):\n",
    "    return tf.random_normal(shape=shape, stddev=1. / tf.sqrt(shape[0] / 2.))"
   ]
  },
  {
   "cell_type": "code",
   "execution_count": 5,
   "metadata": {
    "collapsed": true
   },
   "outputs": [],
   "source": [
    "# Store layers weight & bias\n",
    "weights = {\n",
    "    'gen_hidden1': tf.Variable(glorot_init([noise_dim, gen_hidden_dim])),\n",
    "    'gen_out': tf.Variable(glorot_init([gen_hidden_dim, image_dim])),\n",
    "    'disc_hidden1': tf.Variable(glorot_init([image_dim, disc_hidden_dim])),\n",
    "    'disc_out': tf.Variable(glorot_init([disc_hidden_dim, 1])),\n",
    "}\n",
    "biases = {\n",
    "    'gen_hidden1': tf.Variable(tf.zeros([gen_hidden_dim])),\n",
    "    'gen_out': tf.Variable(tf.zeros([image_dim])),\n",
    "    'disc_hidden1': tf.Variable(tf.zeros([disc_hidden_dim])),\n",
    "    'disc_out': tf.Variable(tf.zeros([1])),\n",
    "}"
   ]
  },
  {
   "cell_type": "code",
   "execution_count": 6,
   "metadata": {
    "collapsed": true
   },
   "outputs": [],
   "source": [
    "# Generator\n",
    "def generator(x):\n",
    "    hidden_layer = tf.matmul(x, weights['gen_hidden1'])\n",
    "    hidden_layer = tf.add(hidden_layer, biases['gen_hidden1'])\n",
    "    hidden_layer = tf.nn.relu(hidden_layer)\n",
    "    out_layer = tf.matmul(hidden_layer, weights['gen_out'])\n",
    "    out_layer = tf.add(out_layer, biases['gen_out'])\n",
    "    out_layer = tf.nn.sigmoid(out_layer)\n",
    "    return out_layer\n",
    "\n",
    "\n",
    "# Discriminator\n",
    "def discriminator(x):\n",
    "    hidden_layer = tf.matmul(x, weights['disc_hidden1'])\n",
    "    hidden_layer = tf.add(hidden_layer, biases['disc_hidden1'])\n",
    "    hidden_layer = tf.nn.relu(hidden_layer)\n",
    "    out_layer = tf.matmul(hidden_layer, weights['disc_out'])\n",
    "    out_layer = tf.add(out_layer, biases['disc_out'])\n",
    "    out_layer = tf.nn.sigmoid(out_layer)\n",
    "    return out_layer\n",
    "\n",
    "# Build Networks\n",
    "# Network Inputs\n",
    "gen_input = tf.placeholder(tf.float32, shape=[None, noise_dim], name='input_noise')\n",
    "disc_input = tf.placeholder(tf.float32, shape=[None, image_dim], name='disc_input')\n",
    "\n",
    "# Build Generator Network\n",
    "gen_sample = generator(gen_input)\n",
    "\n",
    "# Build 2 Discriminator Networks (one from noise input, one from generated samples)\n",
    "disc_real = discriminator(disc_input)\n",
    "disc_fake = discriminator(gen_sample)\n",
    "\n",
    "# Build Loss\n",
    "gen_loss = -tf.reduce_mean(tf.log(disc_fake))\n",
    "disc_loss = -tf.reduce_mean(tf.log(disc_real) + tf.log(1. - disc_fake))\n",
    "\n",
    "# Build Optimizers\n",
    "optimizer_gen = tf.train.AdamOptimizer(learning_rate=learning_rate)\n",
    "optimizer_disc = tf.train.AdamOptimizer(learning_rate=learning_rate)\n",
    "\n",
    "# Training Variables for each optimizer\n",
    "# By default in TensorFlow, all variables are updated by each optimizer, so we\n",
    "# need to precise for each one of them the specific variables to update.\n",
    "# Generator Network Variables\n",
    "gen_vars = [weights['gen_hidden1'], weights['gen_out'],\n",
    "            biases['gen_hidden1'], biases['gen_out']]\n",
    "# Discriminator Network Variables\n",
    "disc_vars = [weights['disc_hidden1'], weights['disc_out'],\n",
    "            biases['disc_hidden1'], biases['disc_out']]\n",
    "\n",
    "# Create training operations\n",
    "train_gen = optimizer_gen.minimize(gen_loss, var_list=gen_vars)\n",
    "train_disc = optimizer_disc.minimize(disc_loss, var_list=disc_vars)\n",
    "\n",
    "# Initialize the variables (i.e. assign their default value)\n",
    "init = tf.global_variables_initializer()"
   ]
  },
  {
   "cell_type": "code",
   "execution_count": 7,
   "metadata": {
    "collapsed": false,
    "scrolled": true
   },
   "outputs": [
    {
     "name": "stdout",
     "output_type": "stream",
     "text": [
      "Step 1: Generator Loss: 0.703667, Discriminator Loss: 1.416590\n",
      "Step 2000: Generator Loss: 4.401214, Discriminator Loss: 0.023878\n",
      "Step 4000: Generator Loss: 3.558766, Discriminator Loss: 0.116187\n",
      "Step 6000: Generator Loss: 3.861119, Discriminator Loss: 0.175810\n",
      "Step 8000: Generator Loss: 4.096878, Discriminator Loss: 0.110024\n",
      "Step 10000: Generator Loss: 4.046256, Discriminator Loss: 0.131627\n",
      "Step 12000: Generator Loss: 3.755248, Discriminator Loss: 0.235286\n",
      "Step 14000: Generator Loss: 3.947267, Discriminator Loss: 0.176157\n",
      "Step 16000: Generator Loss: 3.572000, Discriminator Loss: 0.291994\n",
      "Step 18000: Generator Loss: 4.120293, Discriminator Loss: 0.175873\n",
      "Step 20000: Generator Loss: 4.200557, Discriminator Loss: 0.130336\n",
      "Step 22000: Generator Loss: 3.364739, Discriminator Loss: 0.278864\n",
      "Step 24000: Generator Loss: 3.856502, Discriminator Loss: 0.249154\n",
      "Step 26000: Generator Loss: 3.376010, Discriminator Loss: 0.292657\n",
      "Step 28000: Generator Loss: 3.173479, Discriminator Loss: 0.327615\n",
      "Step 30000: Generator Loss: 3.438809, Discriminator Loss: 0.341424\n",
      "Step 32000: Generator Loss: 3.300882, Discriminator Loss: 0.388085\n",
      "Step 34000: Generator Loss: 3.456832, Discriminator Loss: 0.459065\n",
      "Step 36000: Generator Loss: 3.932708, Discriminator Loss: 0.294715\n",
      "Step 38000: Generator Loss: 3.012906, Discriminator Loss: 0.386848\n",
      "Step 40000: Generator Loss: 2.920725, Discriminator Loss: 0.522316\n",
      "Step 42000: Generator Loss: 2.553148, Discriminator Loss: 0.349963\n",
      "Step 44000: Generator Loss: 2.401097, Discriminator Loss: 0.457992\n",
      "Step 46000: Generator Loss: 2.632576, Discriminator Loss: 0.426901\n",
      "Step 48000: Generator Loss: 2.920184, Discriminator Loss: 0.454696\n",
      "Step 50000: Generator Loss: 2.871869, Discriminator Loss: 0.514462\n",
      "Step 52000: Generator Loss: 2.821733, Discriminator Loss: 0.361980\n",
      "Step 54000: Generator Loss: 2.770714, Discriminator Loss: 0.623852\n",
      "Step 56000: Generator Loss: 2.676514, Discriminator Loss: 0.420585\n",
      "Step 58000: Generator Loss: 3.000216, Discriminator Loss: 0.406278\n",
      "Step 60000: Generator Loss: 2.878316, Discriminator Loss: 0.429459\n",
      "Step 62000: Generator Loss: 3.531657, Discriminator Loss: 0.481623\n",
      "Step 64000: Generator Loss: 3.289813, Discriminator Loss: 0.318957\n",
      "Step 66000: Generator Loss: 2.562871, Discriminator Loss: 0.504451\n",
      "Step 68000: Generator Loss: 2.730859, Discriminator Loss: 0.387062\n",
      "Step 70000: Generator Loss: 2.922915, Discriminator Loss: 0.356032\n"
     ]
    }
   ],
   "source": [
    "# Start Training\n",
    "# Start a new TF session\n",
    "sess = tf.Session()\n",
    "\n",
    "# Run the initializer\n",
    "sess.run(init)\n",
    "\n",
    "# Training\n",
    "for i in range(1, num_steps+1):\n",
    "    # Prepare Data\n",
    "    # Get the next batch of MNIST data (only images are needed, not labels)\n",
    "    batch_x, _ = mnist.train.next_batch(batch_size)\n",
    "    # Generate noise to feed to the generator\n",
    "    z = np.random.uniform(-1., 1., size=[batch_size, noise_dim])\n",
    "\n",
    "    # Train\n",
    "    feed_dict = {disc_input: batch_x, gen_input: z}\n",
    "    _, _, gl, dl = sess.run([train_gen, train_disc, gen_loss, disc_loss],\n",
    "                            feed_dict=feed_dict)\n",
    "    if i % 2000 == 0 or i == 1:\n",
    "        print('Step %i: Generator Loss: %f, Discriminator Loss: %f' % (i, gl, dl))"
   ]
  },
  {
   "cell_type": "code",
   "execution_count": 13,
   "metadata": {
    "collapsed": false
   },
   "outputs": [
    {
     "data": {
      "text/plain": [
       "'D:/School/NUS Y5/S2/Deep Learning/HW6/Regularization/saved/gan_biases.ckpt'"
      ]
     },
     "execution_count": 13,
     "metadata": {},
     "output_type": "execute_result"
    }
   ],
   "source": [
    "saver1 = tf.train.Saver(weights)\n",
    "saver1.save(sess, \"D:/School/NUS Y5/S2/Deep Learning/HW6/Regularization/saved/gan_weights.ckpt\")\n",
    "saver2 = tf.train.Saver(biases)\n",
    "saver2.save(sess, \"D:/School/NUS Y5/S2/Deep Learning/HW6/Regularization/saved/gan_biases.ckpt\")"
   ]
  },
  {
   "cell_type": "code",
   "execution_count": 8,
   "metadata": {
    "collapsed": false
   },
   "outputs": [
    {
     "data": {
      "image/png": "[encoded data removed]",
      "text/plain": [
       "<matplotlib.figure.Figure at 0x1d98ab3c5f8>"
      ]
     },
     "metadata": {},
     "output_type": "display_data"
    }
   ],
   "source": [
    "# Testing\n",
    "# Generate images from noise, using the generator network.\n",
    "n = 6\n",
    "canvas = np.empty((28 * n, 28 * n))\n",
    "for i in range(n):\n",
    "    # Noise input.\n",
    "    z = np.random.uniform(-1., 1., size=[n, noise_dim])\n",
    "    # Generate image from noise.\n",
    "    g = sess.run(gen_sample, feed_dict={gen_input: z})\n",
    "    # Reverse colours for better display\n",
    "    g = -1 * (g - 1)\n",
    "    for j in range(n):\n",
    "        # Draw the generated digits\n",
    "        canvas[i * 28:(i + 1) * 28, j * 28:(j + 1) * 28] = g[j].reshape([28, 28])\n",
    "\n",
    "plt.figure(figsize=(n, n))\n",
    "plt.imshow(canvas, origin=\"upper\", cmap=\"gray\")\n",
    "plt.show()"
   ]
  },
  {
   "cell_type": "code",
   "execution_count": 10,
   "metadata": {
    "collapsed": true
   },
   "outputs": [],
   "source": [
    "n_test=1000\n",
    "for i in range(n_test):\n",
    "    # Noise input.\n",
    "    z = np.random.uniform(-1., 1., size=[n_test, noise_dim])\n",
    "    # Generate image from noise.\n",
    "    g_test = sess.run(gen_sample, feed_dict={gen_input: z})"
   ]
  },
  {
   "cell_type": "code",
   "execution_count": null,
   "metadata": {
    "collapsed": true
   },
   "outputs": [],
   "source": [
    "if train_classifier:\n",
    "    # Start classifier training\n",
    "    for epoch in range(C_training_epochs):\n",
    "        avg_cost = 0.\n",
    "        total_batch = int(mnist.train.num_examples/C_batch_size)\n",
    "        # Loop over all batches\n",
    "        for i in range(total_batch):\n",
    "            batch_xs, batch_ys = mnist.train.next_batch(C_batch_size)\n",
    "            # Fit training using batch data\n",
    "            _, c = sess.run([C_optimizer, C_cost], feed_dict={x: batch_xs,y: batch_ys})\n",
    "            # Compute average loss\n",
    "            avg_cost += c / total_batch\n",
    "        # Display logs per epoch step\n",
    "        if (epoch+1) % C_display_step == 0:\n",
    "            print(\"Epoch:\", '%04d' % (epoch+1), \"cost=\", \"{:.9f}\".format(avg_cost))\n",
    "\n",
    "    print(\"Optimization Finished!\")\n",
    "\n",
    "    # Test model\n",
    "    correct_prediction = tf.equal(tf.argmax(C_pred, 1), tf.argmax(y, 1))\n",
    "    # Calculate accuracy for test set\n",
    "    accuracy = tf.reduce_mean(tf.cast(correct_prediction, tf.float32))\n",
    "    with sess.as_default():\n",
    "        print(\"Accuracy:\", accuracy.eval({x: mnist.test.images, y: mnist.test.labels}))"
   ]
  },
  {
   "cell_type": "code",
   "execution_count": 18,
   "metadata": {
    "collapsed": false
   },
   "outputs": [
    {
     "name": "stdout",
     "output_type": "stream",
     "text": [
      "W (DT_FLOAT) [784,10]\n",
      "b (DT_FLOAT) [10]\n",
      "\n",
      "disc_hidden1 (DT_FLOAT) [784,256]\n",
      "disc_out (DT_FLOAT) [256,1]\n",
      "gen_hidden1 (DT_FLOAT) [100,256]\n",
      "gen_out (DT_FLOAT) [256,784]\n",
      "\n",
      "INFO:tensorflow:Restoring parameters from D:/School/NUS Y5/S2/Deep Learning/HW6/Regularization/saved/classifier_weights.ckpt\n"
     ]
    }
   ],
   "source": [
    "if train_classifier: #if training classifier, save weights\n",
    "    C_saver = tf.train.Saver({'W':W,'b':b})\n",
    "    C_saver.save(sess, \"D:/School/NUS Y5/S2/Deep Learning/HW6/Regularization/saved/classifier_weights.ckpt\")\n",
    "else: #if training classifier, load weights\n",
    "    C_saver = tf.train.Saver([W,b])\n",
    "    C_saver.restore(sess, \"D:/School/NUS Y5/S2/Deep Learning/HW6/Regularization/saved/classifier_weights.ckpt\")"
   ]
  },
  {
   "cell_type": "code",
   "execution_count": 19,
   "metadata": {
    "collapsed": false
   },
   "outputs": [
    {
     "data": {
      "text/plain": [
       "{0: 8, 1: 66, 2: 31, 3: 78, 4: 97, 5: 49, 6: 20, 7: 201, 8: 113, 9: 337}"
      ]
     },
     "execution_count": 19,
     "metadata": {},
     "output_type": "execute_result"
    }
   ],
   "source": [
    "# classify generated images\n",
    "y = tf.nn.softmax(tf.matmul(g_test, W) + b)\n",
    "z = tf.argmax(y,1).eval(session=sess)\n",
    "unique, counts = np.unique(z, return_counts=True)\n",
    "dict(zip(unique, counts))"
   ]
  }
 ],
 "metadata": {
  "anaconda-cloud": {},
  "kernelspec": {
   "display_name": "Python deep learning",
   "language": "python",
   "name": "deeplearning"
  },
  "language_info": {
   "codemirror_mode": {
    "name": "ipython",
    "version": 3
   },
   "file_extension": ".py",
   "mimetype": "text/x-python",
   "name": "python",
   "nbconvert_exporter": "python",
   "pygments_lexer": "ipython3",
   "version": "3.5.4"
  }
 },
 "nbformat": 4,
 "nbformat_minor": 2
}
