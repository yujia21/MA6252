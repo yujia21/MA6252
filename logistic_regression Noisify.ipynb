{
 "cells": [
  {
   "cell_type": "markdown",
   "metadata": {
    "collapsed": true
   },
   "source": [
    "# Logistic Regression Example\n",
    "\n",
    "A logistic regression learning algorithm example using TensorFlow library.\n",
    "This example is using the MNIST database of handwritten digits (http://yann.lecun.com/exdb/mnist/)\n",
    "\n",
    "- Author: Aymeric Damien\n",
    "- Project: https://github.com/aymericdamien/TensorFlow-Examples/"
   ]
  },
  {
   "cell_type": "code",
   "execution_count": 1,
   "metadata": {
    "collapsed": false
   },
   "outputs": [
    {
     "name": "stdout",
     "output_type": "stream",
     "text": [
      "Extracting /tmp/data/train-images-idx3-ubyte.gz\n",
      "Extracting /tmp/data/train-labels-idx1-ubyte.gz\n",
      "Extracting /tmp/data/t10k-images-idx3-ubyte.gz\n",
      "Extracting /tmp/data/t10k-labels-idx1-ubyte.gz\n"
     ]
    }
   ],
   "source": [
    "import tensorflow as tf\n",
    "import numpy as np\n",
    "\n",
    "# Import MINST data\n",
    "from tensorflow.examples.tutorials.mnist import input_data\n",
    "mnist = input_data.read_data_sets(\"/tmp/data/\", one_hot=True)"
   ]
  },
  {
   "cell_type": "code",
   "execution_count": 48,
   "metadata": {
    "collapsed": false
   },
   "outputs": [],
   "source": [
    "# data augment here\n",
    "#plus_matrix=np.eye(28)\n",
    "#minus_matrix=np.eye(28)\n",
    "import numpy as np\n",
    "n_samples=2000\n",
    "\n",
    "original=mnist.train.images[:n_samples]\n",
    "new = original+(np.random.normal(size=original.shape, scale = 1/np.sqrt(256)))\n",
    "\n",
    "original_test = mnist.test.images[:n_samples]\n",
    "new_test = original_test+(np.random.normal(size=original.shape, scale = 1/np.sqrt(256)))\n",
    "    \n",
    "new_train_labels = np.concatenate((mnist.train.labels[:n_samples], mnist.train.labels[:n_samples]))\n",
    "new_train_images = np.concatenate((original, new))\n",
    "new_test_labels = np.concatenate((mnist.test.labels[:n_samples], mnist.test.labels[:n_samples]))\n",
    "new_test_images = np.concatenate((original_test, new_test))"
   ]
  },
  {
   "cell_type": "code",
   "execution_count": 58,
   "metadata": {
    "collapsed": false
   },
   "outputs": [
    {
     "data": {
      "image/png": "[encoded data removed]",
      "text/plain": [
       "<matplotlib.figure.Figure at 0x20ce1478780>"
      ]
     },
     "metadata": {},
     "output_type": "display_data"
    }
   ],
   "source": [
    "import matplotlib.pyplot as plt\n",
    "\n",
    "# The rest of columns are pixels\n",
    "pixels = new_train_images[2000,:]\n",
    "pixels = pixels.reshape((28, 28))\n",
    "\n",
    "# Plot\n",
    "plt.imshow(pixels, cmap='gray')\n",
    "plt.show()"
   ]
  },
  {
   "cell_type": "code",
   "execution_count": 7,
   "metadata": {
    "collapsed": true
   },
   "outputs": [],
   "source": [
    "# Parameters\n",
    "learning_rate = 0.01\n",
    "training_epochs = 1000\n",
    "display_step = 5\n",
    "\n",
    "# tf Graph Input\n",
    "x = tf.placeholder(tf.float32, [None, 784]) # mnist data image of shape 28*28=784\n",
    "y = tf.placeholder(tf.float32, [None, 10]) # 0-9 digits recognition => 10 classes\n",
    "\n",
    "# Set model weights\n",
    "W = tf.Variable(tf.zeros([784, 10]))\n",
    "b = tf.Variable(tf.zeros([10]))\n",
    "\n",
    "# Construct model\n",
    "pred = tf.nn.softmax(tf.matmul(x, W) + b) # Softmax\n",
    "\n",
    "# Minimize error using cross entropy\n",
    "cost = tf.reduce_mean(-tf.reduce_sum(y*tf.log(pred), reduction_indices=1)) \n",
    "\n",
    "# Gradient Descent\n",
    "optimizer = tf.train.GradientDescentOptimizer(learning_rate).minimize(cost)\n",
    "\n",
    "# Initialize the variables (i.e. assign their default value)\n",
    "init = tf.global_variables_initializer()"
   ]
  },
  {
   "cell_type": "code",
   "execution_count": 53,
   "metadata": {
    "collapsed": false,
    "scrolled": true
   },
   "outputs": [
    {
     "name": "stdout",
     "output_type": "stream",
     "text": [
      "Epoch: 0005 cost= 2.257314682\n",
      "Epoch: 0010 cost= 2.203473568\n",
      "Epoch: 0015 cost= 2.152270794\n",
      "Epoch: 0020 cost= 2.103396893\n",
      "Epoch: 0025 cost= 2.056632519\n",
      "Epoch: 0030 cost= 2.011816502\n",
      "Epoch: 0035 cost= 1.968826532\n",
      "Epoch: 0040 cost= 1.927559376\n",
      "Epoch: 0045 cost= 1.887931943\n",
      "Epoch: 0050 cost= 1.849869847\n",
      "Epoch: 0055 cost= 1.813305378\n",
      "Epoch: 0060 cost= 1.778173923\n",
      "Epoch: 0065 cost= 1.744415164\n",
      "Epoch: 0070 cost= 1.711973310\n",
      "Epoch: 0075 cost= 1.680788994\n",
      "Epoch: 0080 cost= 1.650812745\n",
      "Epoch: 0085 cost= 1.621988416\n",
      "Epoch: 0090 cost= 1.594268322\n",
      "Epoch: 0095 cost= 1.567603707\n",
      "Epoch: 0100 cost= 1.541945934\n",
      "Epoch: 0105 cost= 1.517251015\n",
      "Epoch: 0110 cost= 1.493475556\n",
      "Epoch: 0115 cost= 1.470577002\n",
      "Epoch: 0120 cost= 1.448516726\n",
      "Epoch: 0125 cost= 1.427255511\n",
      "Epoch: 0130 cost= 1.406756163\n",
      "Epoch: 0135 cost= 1.386984110\n",
      "Epoch: 0140 cost= 1.367907643\n",
      "Epoch: 0145 cost= 1.349492192\n",
      "Epoch: 0150 cost= 1.331709862\n",
      "Epoch: 0155 cost= 1.314531326\n",
      "Epoch: 0160 cost= 1.297928929\n",
      "Epoch: 0165 cost= 1.281876922\n",
      "Epoch: 0170 cost= 1.266351104\n",
      "Epoch: 0175 cost= 1.251326323\n",
      "Epoch: 0180 cost= 1.236782432\n",
      "Epoch: 0185 cost= 1.222697496\n",
      "Epoch: 0190 cost= 1.209051371\n",
      "Epoch: 0195 cost= 1.195825458\n",
      "Epoch: 0200 cost= 1.183000684\n",
      "Epoch: 0205 cost= 1.170561910\n",
      "Epoch: 0210 cost= 1.158490777\n",
      "Epoch: 0215 cost= 1.146773100\n",
      "Epoch: 0220 cost= 1.135393500\n",
      "Epoch: 0225 cost= 1.124337912\n",
      "Epoch: 0230 cost= 1.113594651\n",
      "Epoch: 0235 cost= 1.103149891\n",
      "Epoch: 0240 cost= 1.092991829\n",
      "Epoch: 0245 cost= 1.083109140\n",
      "Epoch: 0250 cost= 1.073490977\n",
      "Epoch: 0255 cost= 1.064127326\n",
      "Epoch: 0260 cost= 1.055007100\n",
      "Epoch: 0265 cost= 1.046123624\n",
      "Epoch: 0270 cost= 1.037465811\n",
      "Epoch: 0275 cost= 1.029025674\n",
      "Epoch: 0280 cost= 1.020795941\n",
      "Epoch: 0285 cost= 1.012767792\n",
      "Epoch: 0290 cost= 1.004935384\n",
      "Epoch: 0295 cost= 0.997290492\n",
      "Epoch: 0300 cost= 0.989825785\n",
      "Epoch: 0305 cost= 0.982536256\n",
      "Epoch: 0310 cost= 0.975416005\n",
      "Epoch: 0315 cost= 0.968458176\n",
      "Epoch: 0320 cost= 0.961657763\n",
      "Epoch: 0325 cost= 0.955009639\n",
      "Epoch: 0330 cost= 0.948508084\n",
      "Epoch: 0335 cost= 0.942148507\n",
      "Epoch: 0340 cost= 0.935926378\n",
      "Epoch: 0345 cost= 0.929837525\n",
      "Epoch: 0350 cost= 0.923877060\n",
      "Epoch: 0355 cost= 0.918040931\n",
      "Epoch: 0360 cost= 0.912325859\n",
      "Epoch: 0365 cost= 0.906727552\n",
      "Epoch: 0370 cost= 0.901242077\n",
      "Epoch: 0375 cost= 0.895866573\n",
      "Epoch: 0380 cost= 0.890597463\n",
      "Epoch: 0385 cost= 0.885431290\n",
      "Epoch: 0390 cost= 0.880365968\n",
      "Epoch: 0395 cost= 0.875396967\n",
      "Epoch: 0400 cost= 0.870522916\n",
      "Epoch: 0405 cost= 0.865740240\n",
      "Epoch: 0410 cost= 0.861046731\n",
      "Epoch: 0415 cost= 0.856439590\n",
      "Epoch: 0420 cost= 0.851916194\n",
      "Epoch: 0425 cost= 0.847474515\n",
      "Epoch: 0430 cost= 0.843112528\n",
      "Epoch: 0435 cost= 0.838826895\n",
      "Epoch: 0440 cost= 0.834617555\n",
      "Epoch: 0445 cost= 0.830480635\n",
      "Epoch: 0450 cost= 0.826414526\n",
      "Epoch: 0455 cost= 0.822418153\n",
      "Epoch: 0460 cost= 0.818489134\n",
      "Epoch: 0465 cost= 0.814625561\n",
      "Epoch: 0470 cost= 0.810826421\n",
      "Epoch: 0475 cost= 0.807089090\n",
      "Epoch: 0480 cost= 0.803412497\n",
      "Epoch: 0485 cost= 0.799795508\n",
      "Epoch: 0490 cost= 0.796235979\n",
      "Epoch: 0495 cost= 0.792732894\n",
      "Epoch: 0500 cost= 0.789284587\n",
      "Epoch: 0505 cost= 0.785889804\n",
      "Epoch: 0510 cost= 0.782547414\n",
      "Epoch: 0515 cost= 0.779256284\n",
      "Epoch: 0520 cost= 0.776014090\n",
      "Epoch: 0525 cost= 0.772821546\n",
      "Epoch: 0530 cost= 0.769676208\n",
      "Epoch: 0535 cost= 0.766577005\n",
      "Epoch: 0540 cost= 0.763523400\n",
      "Epoch: 0545 cost= 0.760513961\n",
      "Epoch: 0550 cost= 0.757547855\n",
      "Epoch: 0555 cost= 0.754624128\n",
      "Epoch: 0560 cost= 0.751742065\n",
      "Epoch: 0565 cost= 0.748899877\n",
      "Epoch: 0570 cost= 0.746097267\n",
      "Epoch: 0575 cost= 0.743333399\n",
      "Epoch: 0580 cost= 0.740607977\n",
      "Epoch: 0585 cost= 0.737918973\n",
      "Epoch: 0590 cost= 0.735266030\n",
      "Epoch: 0595 cost= 0.732649028\n",
      "Epoch: 0600 cost= 0.730066836\n",
      "Epoch: 0605 cost= 0.727518559\n",
      "Epoch: 0610 cost= 0.725003242\n",
      "Epoch: 0615 cost= 0.722521245\n",
      "Epoch: 0620 cost= 0.720070541\n",
      "Epoch: 0625 cost= 0.717651725\n",
      "Epoch: 0630 cost= 0.715263188\n",
      "Epoch: 0635 cost= 0.712904930\n",
      "Epoch: 0640 cost= 0.710575819\n",
      "Epoch: 0645 cost= 0.708275974\n",
      "Epoch: 0650 cost= 0.706003904\n",
      "Epoch: 0655 cost= 0.703759968\n",
      "Epoch: 0660 cost= 0.701543450\n",
      "Epoch: 0665 cost= 0.699353278\n",
      "Epoch: 0670 cost= 0.697189331\n",
      "Epoch: 0675 cost= 0.695051014\n",
      "Epoch: 0680 cost= 0.692938447\n",
      "Epoch: 0685 cost= 0.690850079\n",
      "Epoch: 0690 cost= 0.688785911\n",
      "Epoch: 0695 cost= 0.686746240\n",
      "Epoch: 0700 cost= 0.684729636\n",
      "Epoch: 0705 cost= 0.682735741\n",
      "Epoch: 0710 cost= 0.680764616\n",
      "Epoch: 0715 cost= 0.678815603\n",
      "Epoch: 0720 cost= 0.676888645\n",
      "Epoch: 0725 cost= 0.674982548\n",
      "Epoch: 0730 cost= 0.673097730\n",
      "Epoch: 0735 cost= 0.671233535\n",
      "Epoch: 0740 cost= 0.669389486\n",
      "Epoch: 0745 cost= 0.667565405\n",
      "Epoch: 0750 cost= 0.665760756\n",
      "Epoch: 0755 cost= 0.663975477\n",
      "Epoch: 0760 cost= 0.662209094\n",
      "Epoch: 0765 cost= 0.660461426\n",
      "Epoch: 0770 cost= 0.658731937\n",
      "Epoch: 0775 cost= 0.657019913\n",
      "Epoch: 0780 cost= 0.655326545\n",
      "Epoch: 0785 cost= 0.653650105\n",
      "Epoch: 0790 cost= 0.651990533\n",
      "Epoch: 0795 cost= 0.650347948\n",
      "Epoch: 0800 cost= 0.648721814\n",
      "Epoch: 0805 cost= 0.647112191\n",
      "Epoch: 0810 cost= 0.645518661\n",
      "Epoch: 0815 cost= 0.643940687\n",
      "Epoch: 0820 cost= 0.642378151\n",
      "Epoch: 0825 cost= 0.640830696\n",
      "Epoch: 0830 cost= 0.639298797\n",
      "Epoch: 0835 cost= 0.637781382\n",
      "Epoch: 0840 cost= 0.636278331\n",
      "Epoch: 0845 cost= 0.634790182\n",
      "Epoch: 0850 cost= 0.633315802\n",
      "Epoch: 0855 cost= 0.631855249\n",
      "Epoch: 0860 cost= 0.630408466\n",
      "Epoch: 0865 cost= 0.628975570\n",
      "Epoch: 0870 cost= 0.627555430\n",
      "Epoch: 0875 cost= 0.626148462\n",
      "Epoch: 0880 cost= 0.624754310\n",
      "Epoch: 0885 cost= 0.623373330\n",
      "Epoch: 0890 cost= 0.622004271\n",
      "Epoch: 0895 cost= 0.620648086\n",
      "Epoch: 0900 cost= 0.619303703\n",
      "Epoch: 0905 cost= 0.617971301\n",
      "Epoch: 0910 cost= 0.616650522\n",
      "Epoch: 0915 cost= 0.615342021\n",
      "Epoch: 0920 cost= 0.614044785\n",
      "Epoch: 0925 cost= 0.612758458\n",
      "Epoch: 0930 cost= 0.611483634\n",
      "Epoch: 0935 cost= 0.610219538\n",
      "Epoch: 0940 cost= 0.608966291\n",
      "Epoch: 0945 cost= 0.607724011\n",
      "Epoch: 0950 cost= 0.606492043\n",
      "Epoch: 0955 cost= 0.605270863\n",
      "Epoch: 0960 cost= 0.604059637\n",
      "Epoch: 0965 cost= 0.602858424\n",
      "Epoch: 0970 cost= 0.601667583\n",
      "Epoch: 0975 cost= 0.600486219\n",
      "Epoch: 0980 cost= 0.599314749\n",
      "Epoch: 0985 cost= 0.598152697\n",
      "Epoch: 0990 cost= 0.597000122\n",
      "Epoch: 0995 cost= 0.595857322\n",
      "Epoch: 1000 cost= 0.594723046\n",
      "Optimization Finished!\n",
      "Test Accuracy: 0.9024\n"
     ]
    }
   ],
   "source": [
    "# Start training\n",
    "CV_accuracy = []\n",
    "CV_epoch = []\n",
    "train_cost = []\n",
    "CV_cost = []\n",
    "test_accuracy = []\n",
    "with tf.Session() as sess:\n",
    "    sess.run(init)\n",
    "\n",
    "    # Training cycle\n",
    "    for epoch in range(training_epochs):\n",
    "        #_, avg_cost = sess.run([optimizer, cost], feed_dict={x: new_train_images,\n",
    "        #                                                  y: new_train_labels})\n",
    "        _, avg_cost = sess.run([optimizer, cost], feed_dict={x: mnist.train.images[:2*n_samples],\n",
    "                                                          y: mnist.train.labels[:2*n_samples]})\n",
    "\n",
    "        train_cost = train_cost + [avg_cost]\n",
    "        CV_cost = CV_cost + [sess.run(cost, feed_dict = {x: mnist.validation.images, y: mnist.validation.labels})]\n",
    "        # Display logs per epoch step\n",
    "        if (epoch+1) % display_step == 0:\n",
    "            print(\"Epoch:\", '%04d' % (epoch+1), \"cost=\", \"{:.9f}\".format(avg_cost))\n",
    "        \n",
    "        if ((epoch+1)%10 == 0):\n",
    "            # Test model\n",
    "            correct_prediction = tf.equal(tf.argmax(pred, 1), tf.argmax(y, 1))\n",
    "            # Calculate accuracy for CV and test set\n",
    "            accuracy = tf.reduce_mean(tf.cast(correct_prediction, tf.float32))\n",
    "            cv_acc = accuracy.eval({x: mnist.validation.images[:100], y: mnist.validation.labels[:100]})\n",
    "            test_acc = accuracy.eval({x: new_test_images[:500], y: new_test_labels[:500]})\n",
    "            CV_accuracy = CV_accuracy + [cv_acc]\n",
    "            test_accuracy = test_accuracy + [test_acc]\n",
    "            CV_epoch = CV_epoch + [epoch]\n",
    "    print(\"Optimization Finished!\")\n",
    "\n",
    "    # Test model\n",
    "    correct_prediction = tf.equal(tf.argmax(pred, 1), tf.argmax(y, 1))\n",
    "    # Calculate accuracy for test examples\n",
    "    accuracy = tf.reduce_mean(tf.cast(correct_prediction, tf.float32))\n",
    "    print(\"Test Accuracy:\", accuracy.eval({x: mnist.test.images[5000:], y: mnist.test.labels[5000:]}))"
   ]
  },
  {
   "cell_type": "code",
   "execution_count": 55,
   "metadata": {
    "collapsed": false
   },
   "outputs": [
    {
     "data": {
      "text/plain": [
       "<matplotlib.text.Text at 0x20ce12bd5c0>"
      ]
     },
     "execution_count": 55,
     "metadata": {},
     "output_type": "execute_result"
    },
    {
     "data": {
      "image/png": "[encoded data removed]",
      "text/plain": [
       "<matplotlib.figure.Figure at 0x20ce07c97b8>"
      ]
     },
     "metadata": {},
     "output_type": "display_data"
    }
   ],
   "source": [
    "import matplotlib.pyplot as plt\n",
    "%matplotlib inline\n",
    "#plt.plot(CV_epoch,CV_accuracy,label=\"CV set accuracy\")\n",
    "plt.plot(CV_epoch,test_accuracy,label=\"Test set accuracy\")\n",
    "plt.title(\"Accuracy over epochs for noisy test data with orig learner\")\n",
    "#plt.legend()"
   ]
  },
  {
   "cell_type": "code",
   "execution_count": 56,
   "metadata": {
    "collapsed": false
   },
   "outputs": [
    {
     "data": {
      "text/plain": [
       "<matplotlib.legend.Legend at 0x20ce134acf8>"
      ]
     },
     "execution_count": 56,
     "metadata": {},
     "output_type": "execute_result"
    },
    {
     "data": {
      "image/png": "[encoded data removed]",
      "text/plain": [
       "<matplotlib.figure.Figure at 0x20ce12eb860>"
      ]
     },
     "metadata": {},
     "output_type": "display_data"
    }
   ],
   "source": [
    "plt.plot(train_cost, label=\"Train cost\")\n",
    "plt.plot(CV_cost, label=\"CV cost\")\n",
    "plt.title(\"Cost over epochs with orig learner\")\n",
    "plt.legend()"
   ]
  },
  {
   "cell_type": "code",
   "execution_count": 5,
   "metadata": {
    "collapsed": false
   },
   "outputs": [
    {
     "data": {
      "image/png": "[encoded data removed]",
      "text/plain": [
       "<matplotlib.figure.Figure at 0x20ce04ecba8>"
      ]
     },
     "metadata": {},
     "output_type": "display_data"
    }
   ],
   "source": [
    "pixels = new_train_images[0,:]\n",
    "pixels = pixels.reshape((28, 28))\n",
    "\n",
    "# Plot\n",
    "plt.imshow(pixels, cmap='gray')\n",
    "plt.show()"
   ]
  }
 ],
 "metadata": {
  "anaconda-cloud": {},
  "kernelspec": {
   "display_name": "Python deep learning",
   "language": "python",
   "name": "deeplearning"
  },
  "language_info": {
   "codemirror_mode": {
    "name": "ipython",
    "version": 3
   },
   "file_extension": ".py",
   "mimetype": "text/x-python",
   "name": "python",
   "nbconvert_exporter": "python",
   "pygments_lexer": "ipython3",
   "version": "3.5.4"
  }
 },
 "nbformat": 4,
 "nbformat_minor": 1
}
