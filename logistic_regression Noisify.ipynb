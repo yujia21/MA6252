{
 "cells": [
  {
   "cell_type": "markdown",
   "metadata": {
    "collapsed": true
   },
   "source": [
    "# Logistic Regression Example\n",
    "\n",
    "A logistic regression learning algorithm example using TensorFlow library.\n",
    "This example is using the MNIST database of handwritten digits (http://yann.lecun.com/exdb/mnist/)\n",
    "\n",
    "- Author: Aymeric Damien\n",
    "- Project: https://github.com/aymericdamien/TensorFlow-Examples/"
   ]
  },
  {
   "cell_type": "code",
   "execution_count": 1,
   "metadata": {
    "collapsed": false
   },
   "outputs": [
    {
     "name": "stdout",
     "output_type": "stream",
     "text": [
      "Extracting /tmp/data/train-images-idx3-ubyte.gz\n",
      "Extracting /tmp/data/train-labels-idx1-ubyte.gz\n",
      "Extracting /tmp/data/t10k-images-idx3-ubyte.gz\n",
      "Extracting /tmp/data/t10k-labels-idx1-ubyte.gz\n"
     ]
    }
   ],
   "source": [
    "import tensorflow as tf\n",
    "import numpy as np\n",
    "\n",
    "# Import MINST data\n",
    "from tensorflow.examples.tutorials.mnist import input_data\n",
    "mnist = input_data.read_data_sets(\"/tmp/data/\", one_hot=True)"
   ]
  },
  {
   "cell_type": "code",
   "execution_count": 2,
   "metadata": {
    "collapsed": false
   },
   "outputs": [],
   "source": [
    "# data augment here\n",
    "#plus_matrix=np.eye(28)\n",
    "#minus_matrix=np.eye(28)\n",
    "import numpy as np\n",
    "n_samples=200\n",
    "\n",
    "original=mnist.train.images[:n_samples]\n",
    "new = original+(np.random.normal(size=original.shape, scale = 1/np.sqrt(256)))\n",
    "\n",
    "original_test = mnist.test.images[:n_samples]\n",
    "new_test = original_test+(np.random.normal(size=original.shape, scale = 1/np.sqrt(256)))\n",
    "    \n",
    "new_train_labels = np.concatenate((mnist.train.labels[:n_samples], mnist.train.labels[:n_samples]))\n",
    "new_train_images = np.concatenate((original, new))\n",
    "new_test_labels = np.concatenate((mnist.test.labels[:n_samples], mnist.test.labels[:n_samples]))\n",
    "new_test_images = np.concatenate((original_test, new_test))"
   ]
  },
  {
   "cell_type": "code",
   "execution_count": 9,
   "metadata": {
    "collapsed": false
   },
   "outputs": [
    {
     "data": {
      "image/png": "[encoded data removed]",
      "text/plain": [
       "<matplotlib.figure.Figure at 0x213e6b24630>"
      ]
     },
     "metadata": {},
     "output_type": "display_data"
    }
   ],
   "source": [
    "import matplotlib.pyplot as plt\n",
    "\n",
    "# The rest of columns are pixels\n",
    "pixels = new_train_images[222,:]\n",
    "pixels = pixels.reshape((28, 28))\n",
    "\n",
    "# Plot\n",
    "plt.imshow(pixels, cmap='gray')\n",
    "plt.show()"
   ]
  },
  {
   "cell_type": "code",
   "execution_count": 10,
   "metadata": {
    "collapsed": true
   },
   "outputs": [],
   "source": [
    "# Parameters\n",
    "learning_rate = 0.01\n",
    "training_epochs = 1000\n",
    "display_step = 5\n",
    "\n",
    "# tf Graph Input\n",
    "x = tf.placeholder(tf.float32, [None, 784]) # mnist data image of shape 28*28=784\n",
    "y = tf.placeholder(tf.float32, [None, 10]) # 0-9 digits recognition => 10 classes\n",
    "\n",
    "# Set model weights\n",
    "W = tf.Variable(tf.zeros([784, 10]))\n",
    "b = tf.Variable(tf.zeros([10]))\n",
    "\n",
    "# Construct model\n",
    "pred = tf.nn.softmax(tf.matmul(x, W) + b) # Softmax\n",
    "\n",
    "# Minimize error using cross entropy\n",
    "cost = tf.reduce_mean(-tf.reduce_sum(y*tf.log(pred), reduction_indices=1)) \n",
    "\n",
    "# Gradient Descent\n",
    "optimizer = tf.train.GradientDescentOptimizer(learning_rate).minimize(cost)\n",
    "\n",
    "# Initialize the variables (i.e. assign their default value)\n",
    "init = tf.global_variables_initializer()"
   ]
  },
  {
   "cell_type": "code",
   "execution_count": 15,
   "metadata": {
    "collapsed": false,
    "scrolled": true
   },
   "outputs": [
    {
     "name": "stdout",
     "output_type": "stream",
     "text": [
      "Epoch: 0005 cost= 2.237511635\n",
      "Epoch: 0010 cost= 2.162835360\n",
      "Epoch: 0015 cost= 2.094119310\n",
      "Epoch: 0020 cost= 2.030262232\n",
      "Epoch: 0025 cost= 1.970482945\n",
      "Epoch: 0030 cost= 1.914217949\n",
      "Epoch: 0035 cost= 1.861051321\n",
      "Epoch: 0040 cost= 1.810668588\n",
      "Epoch: 0045 cost= 1.762823343\n",
      "Epoch: 0050 cost= 1.717315197\n",
      "Epoch: 0055 cost= 1.673976779\n",
      "Epoch: 0060 cost= 1.632663012\n",
      "Epoch: 0065 cost= 1.593245387\n",
      "Epoch: 0070 cost= 1.555609703\n",
      "Epoch: 0075 cost= 1.519651890\n",
      "Epoch: 0080 cost= 1.485275626\n",
      "Epoch: 0085 cost= 1.452391386\n",
      "Epoch: 0090 cost= 1.420917630\n",
      "Epoch: 0095 cost= 1.390777111\n",
      "Epoch: 0100 cost= 1.361897230\n",
      "Epoch: 0105 cost= 1.334211111\n",
      "Epoch: 0110 cost= 1.307654381\n",
      "Epoch: 0115 cost= 1.282167912\n",
      "Epoch: 0120 cost= 1.257695436\n",
      "Epoch: 0125 cost= 1.234183550\n",
      "Epoch: 0130 cost= 1.211582541\n",
      "Epoch: 0135 cost= 1.189845681\n",
      "Epoch: 0140 cost= 1.168928504\n",
      "Epoch: 0145 cost= 1.148789287\n",
      "Epoch: 0150 cost= 1.129388690\n",
      "Epoch: 0155 cost= 1.110689402\n",
      "Epoch: 0160 cost= 1.092656732\n",
      "Epoch: 0165 cost= 1.075257301\n",
      "Epoch: 0170 cost= 1.058460355\n",
      "Epoch: 0175 cost= 1.042236567\n",
      "Epoch: 0180 cost= 1.026558161\n",
      "Epoch: 0185 cost= 1.011399508\n",
      "Epoch: 0190 cost= 0.996735215\n",
      "Epoch: 0195 cost= 0.982542574\n",
      "Epoch: 0200 cost= 0.968799651\n",
      "Epoch: 0205 cost= 0.955485821\n",
      "Epoch: 0210 cost= 0.942581415\n",
      "Epoch: 0215 cost= 0.930068076\n",
      "Epoch: 0220 cost= 0.917928457\n",
      "Epoch: 0225 cost= 0.906145871\n",
      "Epoch: 0230 cost= 0.894704878\n",
      "Epoch: 0235 cost= 0.883591175\n",
      "Epoch: 0240 cost= 0.872789979\n",
      "Epoch: 0245 cost= 0.862288713\n",
      "Epoch: 0250 cost= 0.852074742\n",
      "Epoch: 0255 cost= 0.842136204\n",
      "Epoch: 0260 cost= 0.832461596\n",
      "Epoch: 0265 cost= 0.823040903\n",
      "Epoch: 0270 cost= 0.813863695\n",
      "Epoch: 0275 cost= 0.804920256\n",
      "Epoch: 0280 cost= 0.796201706\n",
      "Epoch: 0285 cost= 0.787699282\n",
      "Epoch: 0290 cost= 0.779404700\n",
      "Epoch: 0295 cost= 0.771310270\n",
      "Epoch: 0300 cost= 0.763408661\n",
      "Epoch: 0305 cost= 0.755692422\n",
      "Epoch: 0310 cost= 0.748155296\n",
      "Epoch: 0315 cost= 0.740790546\n",
      "Epoch: 0320 cost= 0.733592093\n",
      "Epoch: 0325 cost= 0.726554036\n",
      "Epoch: 0330 cost= 0.719670951\n",
      "Epoch: 0335 cost= 0.712937474\n",
      "Epoch: 0340 cost= 0.706348419\n",
      "Epoch: 0345 cost= 0.699899316\n",
      "Epoch: 0350 cost= 0.693585038\n",
      "Epoch: 0355 cost= 0.687401354\n",
      "Epoch: 0360 cost= 0.681343973\n",
      "Epoch: 0365 cost= 0.675409019\n",
      "Epoch: 0370 cost= 0.669592440\n",
      "Epoch: 0375 cost= 0.663890481\n",
      "Epoch: 0380 cost= 0.658299685\n",
      "Epoch: 0385 cost= 0.652816474\n",
      "Epoch: 0390 cost= 0.647437871\n",
      "Epoch: 0395 cost= 0.642160416\n",
      "Epoch: 0400 cost= 0.636981189\n",
      "Epoch: 0405 cost= 0.631897271\n",
      "Epoch: 0410 cost= 0.626906097\n",
      "Epoch: 0415 cost= 0.622004628\n",
      "Epoch: 0420 cost= 0.617190480\n",
      "Epoch: 0425 cost= 0.612461269\n",
      "Epoch: 0430 cost= 0.607814252\n",
      "Epoch: 0435 cost= 0.603247583\n",
      "Epoch: 0440 cost= 0.598758876\n",
      "Epoch: 0445 cost= 0.594345987\n",
      "Epoch: 0450 cost= 0.590006828\n",
      "Epoch: 0455 cost= 0.585739493\n",
      "Epoch: 0460 cost= 0.581542075\n",
      "Epoch: 0465 cost= 0.577412665\n",
      "Epoch: 0470 cost= 0.573349655\n",
      "Epoch: 0475 cost= 0.569351137\n",
      "Epoch: 0480 cost= 0.565415621\n",
      "Epoch: 0485 cost= 0.561541498\n",
      "Epoch: 0490 cost= 0.557727098\n",
      "Epoch: 0495 cost= 0.553970993\n",
      "Epoch: 0500 cost= 0.550271869\n",
      "Epoch: 0505 cost= 0.546628237\n",
      "Epoch: 0510 cost= 0.543038785\n",
      "Epoch: 0515 cost= 0.539502203\n",
      "Epoch: 0520 cost= 0.536017299\n",
      "Epoch: 0525 cost= 0.532582760\n",
      "Epoch: 0530 cost= 0.529197454\n",
      "Epoch: 0535 cost= 0.525860310\n",
      "Epoch: 0540 cost= 0.522570014\n",
      "Epoch: 0545 cost= 0.519325674\n",
      "Epoch: 0550 cost= 0.516126335\n",
      "Epoch: 0555 cost= 0.512970746\n",
      "Epoch: 0560 cost= 0.509858072\n",
      "Epoch: 0565 cost= 0.506787360\n",
      "Epoch: 0570 cost= 0.503757834\n",
      "Epoch: 0575 cost= 0.500768304\n",
      "Epoch: 0580 cost= 0.497818112\n",
      "Epoch: 0585 cost= 0.494906336\n",
      "Epoch: 0590 cost= 0.492032230\n",
      "Epoch: 0595 cost= 0.489195019\n",
      "Epoch: 0600 cost= 0.486393899\n",
      "Epoch: 0605 cost= 0.483628154\n",
      "Epoch: 0610 cost= 0.480897039\n",
      "Epoch: 0615 cost= 0.478199720\n",
      "Epoch: 0620 cost= 0.475535691\n",
      "Epoch: 0625 cost= 0.472904205\n",
      "Epoch: 0630 cost= 0.470304728\n",
      "Epoch: 0635 cost= 0.467736483\n",
      "Epoch: 0640 cost= 0.465198874\n",
      "Epoch: 0645 cost= 0.462691396\n",
      "Epoch: 0650 cost= 0.460213363\n",
      "Epoch: 0655 cost= 0.457764357\n",
      "Epoch: 0660 cost= 0.455343634\n",
      "Epoch: 0665 cost= 0.452950776\n",
      "Epoch: 0670 cost= 0.450585276\n",
      "Epoch: 0675 cost= 0.448246568\n",
      "Epoch: 0680 cost= 0.445934206\n",
      "Epoch: 0685 cost= 0.443647623\n",
      "Epoch: 0690 cost= 0.441386491\n",
      "Epoch: 0695 cost= 0.439150155\n",
      "Epoch: 0700 cost= 0.436938256\n",
      "Epoch: 0705 cost= 0.434750527\n",
      "Epoch: 0710 cost= 0.432586223\n",
      "Epoch: 0715 cost= 0.430445254\n",
      "Epoch: 0720 cost= 0.428326964\n",
      "Epoch: 0725 cost= 0.426231027\n",
      "Epoch: 0730 cost= 0.424157172\n",
      "Epoch: 0735 cost= 0.422104806\n",
      "Epoch: 0740 cost= 0.420073777\n",
      "Epoch: 0745 cost= 0.418063462\n",
      "Epoch: 0750 cost= 0.416073829\n",
      "Epoch: 0755 cost= 0.414104372\n",
      "Epoch: 0760 cost= 0.412154704\n",
      "Epoch: 0765 cost= 0.410224646\n",
      "Epoch: 0770 cost= 0.408313662\n",
      "Epoch: 0775 cost= 0.406421661\n",
      "Epoch: 0780 cost= 0.404548109\n",
      "Epoch: 0785 cost= 0.402692944\n",
      "Epoch: 0790 cost= 0.400855720\n",
      "Epoch: 0795 cost= 0.399036169\n",
      "Epoch: 0800 cost= 0.397234112\n",
      "Epoch: 0805 cost= 0.395449251\n",
      "Epoch: 0810 cost= 0.393681109\n",
      "Epoch: 0815 cost= 0.391929626\n",
      "Epoch: 0820 cost= 0.390194505\n",
      "Epoch: 0825 cost= 0.388475507\n",
      "Epoch: 0830 cost= 0.386772305\n",
      "Epoch: 0835 cost= 0.385084808\n",
      "Epoch: 0840 cost= 0.383412540\n",
      "Epoch: 0845 cost= 0.381755531\n",
      "Epoch: 0850 cost= 0.380113482\n",
      "Epoch: 0855 cost= 0.378486037\n",
      "Epoch: 0860 cost= 0.376873165\n",
      "Epoch: 0865 cost= 0.375274509\n",
      "Epoch: 0870 cost= 0.373689920\n",
      "Epoch: 0875 cost= 0.372119218\n",
      "Epoch: 0880 cost= 0.370562136\n",
      "Epoch: 0885 cost= 0.369018555\n",
      "Epoch: 0890 cost= 0.367488265\n",
      "Epoch: 0895 cost= 0.365970880\n",
      "Epoch: 0900 cost= 0.364466518\n",
      "Epoch: 0905 cost= 0.362974882\n",
      "Epoch: 0910 cost= 0.361495733\n",
      "Epoch: 0915 cost= 0.360028982\n",
      "Epoch: 0920 cost= 0.358574450\n",
      "Epoch: 0925 cost= 0.357131869\n",
      "Epoch: 0930 cost= 0.355701178\n",
      "Epoch: 0935 cost= 0.354282141\n",
      "Epoch: 0940 cost= 0.352874756\n",
      "Epoch: 0945 cost= 0.351478726\n",
      "Epoch: 0950 cost= 0.350093812\n",
      "Epoch: 0955 cost= 0.348720014\n",
      "Epoch: 0960 cost= 0.347357243\n",
      "Epoch: 0965 cost= 0.346005261\n",
      "Epoch: 0970 cost= 0.344663769\n",
      "Epoch: 0975 cost= 0.343332946\n",
      "Epoch: 0980 cost= 0.342012405\n",
      "Epoch: 0985 cost= 0.340702087\n",
      "Epoch: 0990 cost= 0.339401931\n",
      "Epoch: 0995 cost= 0.338111728\n",
      "Epoch: 1000 cost= 0.336831450\n",
      "Optimization Finished!\n",
      "Test Accuracy: 0.7892\n"
     ]
    }
   ],
   "source": [
    "# Start training\n",
    "CV_accuracy = []\n",
    "CV_epoch = []\n",
    "train_cost = []\n",
    "CV_cost = []\n",
    "test_accuracy = []\n",
    "with tf.Session() as sess:\n",
    "    sess.run(init)\n",
    "\n",
    "    # Training cycle\n",
    "    for epoch in range(training_epochs):\n",
    "        _, avg_cost = sess.run([optimizer, cost], feed_dict={x: new_train_images, y: new_train_labels})\n",
    "        #_, avg_cost = sess.run([optimizer, cost], feed_dict={x: mnist.train.images[:n_samples],y: mnist.train.labels[:n_samples]})\n",
    "\n",
    "        train_cost = train_cost + [avg_cost]\n",
    "        CV_cost = CV_cost + [sess.run(cost, feed_dict = {x: mnist.validation.images, y: mnist.validation.labels})]\n",
    "        # Display logs per epoch step\n",
    "        if (epoch+1) % display_step == 0:\n",
    "            print(\"Epoch:\", '%04d' % (epoch+1), \"cost=\", \"{:.9f}\".format(avg_cost))\n",
    "        \n",
    "        if ((epoch+1)%10 == 0):\n",
    "            # Test model\n",
    "            correct_prediction = tf.equal(tf.argmax(pred, 1), tf.argmax(y, 1))\n",
    "            # Calculate accuracy for CV and test set\n",
    "            accuracy = tf.reduce_mean(tf.cast(correct_prediction, tf.float32))\n",
    "            cv_acc = accuracy.eval({x: mnist.validation.images[:100], y: mnist.validation.labels[:100]})\n",
    "            test_acc = accuracy.eval({x: new_test_images[:500], y: new_test_labels[:500]})\n",
    "            CV_accuracy = CV_accuracy + [cv_acc]\n",
    "            test_accuracy = test_accuracy + [test_acc]\n",
    "            CV_epoch = CV_epoch + [epoch]\n",
    "    print(\"Optimization Finished!\")\n",
    "\n",
    "    # Test model\n",
    "    correct_prediction = tf.equal(tf.argmax(pred, 1), tf.argmax(y, 1))\n",
    "    # Calculate accuracy for test examples\n",
    "    accuracy = tf.reduce_mean(tf.cast(correct_prediction, tf.float32))\n",
    "    print(\"Test Accuracy:\", accuracy.eval({x: mnist.test.images[5000:], y: mnist.test.labels[5000:]}))"
   ]
  },
  {
   "cell_type": "code",
   "execution_count": 17,
   "metadata": {
    "collapsed": false
   },
   "outputs": [
    {
     "data": {
      "text/plain": [
       "<matplotlib.legend.Legend at 0x213e8dffb70>"
      ]
     },
     "execution_count": 17,
     "metadata": {},
     "output_type": "execute_result"
    },
    {
     "data": {
      "image/png": "[encoded data removed]",
      "text/plain": [
       "<matplotlib.figure.Figure at 0x213e72772e8>"
      ]
     },
     "metadata": {},
     "output_type": "display_data"
    }
   ],
   "source": [
    "import matplotlib.pyplot as plt\n",
    "%matplotlib inline\n",
    "plt.plot(CV_epoch,CV_accuracy,label=\"Testing on clean images\")\n",
    "plt.plot(CV_epoch,test_accuracy,label=\"Testing on noisy images\")\n",
    "plt.title(\"Accuracy over epochs for noisy test data with new learner\")\n",
    "plt.legend()"
   ]
  },
  {
   "cell_type": "code",
   "execution_count": 19,
   "metadata": {
    "collapsed": false
   },
   "outputs": [
    {
     "data": {
      "text/plain": [
       "<matplotlib.legend.Legend at 0x213e8efafd0>"
      ]
     },
     "execution_count": 19,
     "metadata": {},
     "output_type": "execute_result"
    },
    {
     "data": {
      "image/png": "[encoded data removed]",
      "text/plain": [
       "<matplotlib.figure.Figure at 0x213e8eae438>"
      ]
     },
     "metadata": {},
     "output_type": "display_data"
    }
   ],
   "source": [
    "plt.plot(train_cost, label=\"Train cost\")\n",
    "#plt.plot(CV_cost, label=\"CV cost\")\n",
    "plt.title(\"Cost over epochs with new learner\")\n",
    "plt.legend()"
   ]
  },
  {
   "cell_type": "code",
   "execution_count": 5,
   "metadata": {
    "collapsed": false
   },
   "outputs": [
    {
     "data": {
      "image/png": "[encoded data removed]",
      "text/plain": [
       "<matplotlib.figure.Figure at 0x20ce04ecba8>"
      ]
     },
     "metadata": {},
     "output_type": "display_data"
    }
   ],
   "source": [
    "pixels = new_train_images[0,:]\n",
    "pixels = pixels.reshape((28, 28))\n",
    "\n",
    "# Plot\n",
    "plt.imshow(pixels, cmap='gray')\n",
    "plt.show()"
   ]
  }
 ],
 "metadata": {
  "anaconda-cloud": {},
  "kernelspec": {
   "display_name": "Python deep learning",
   "language": "python",
   "name": "deeplearning"
  }
 },
 "nbformat": 4,
 "nbformat_minor": 1
}
