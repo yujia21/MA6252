{
 "cells": [
  {
   "cell_type": "markdown",
   "metadata": {
    "collapsed": true
   },
   "source": [
    "# Generative Adversarial Network Example\n",
    "\n",
    "Build a generative adversarial network (GAN) to generate digit images from a noise distribution with TensorFlow.\n",
    "\n",
    "- Author: Aymeric Damien\n",
    "- Project: https://github.com/aymericdamien/TensorFlow-Examples/"
   ]
  },
  {
   "cell_type": "markdown",
   "metadata": {},
   "source": [
    "## GAN Overview\n",
    "\n",
    "<img src=\"http://www.timzhangyuxuan.com/static/images/project_DCGAN/structure.png\" alt=\"nn\" style=\"width: 800px;\"/>\n",
    "\n",
    "References:\n",
    "- [Generative adversarial nets](https://arxiv.org/pdf/1406.2661.pdf). I Goodfellow, J Pouget-Abadie, M Mirza, B Xu, D Warde-Farley, S Ozair, Y. Bengio. Advances in neural information processing systems, 2672-2680.\n",
    "- [Understanding the difficulty of training deep feedforward neural networks](http://proceedings.mlr.press/v9/glorot10a.html). X Glorot, Y Bengio. Aistats 9, 249-256\n",
    "\n",
    "Other tutorials:\n",
    "- [Generative Adversarial Networks Explained](http://kvfrans.com/generative-adversial-networks-explained/). Kevin Frans.\n",
    "\n",
    "## MNIST Dataset Overview\n",
    "\n",
    "This example is using MNIST handwritten digits. The dataset contains 60,000 examples for training and 10,000 examples for testing. The digits have been size-normalized and centered in a fixed-size image (28x28 pixels) with values from 0 to 1. For simplicity, each image has been flattened and converted to a 1-D numpy array of 784 features (28*28).\n",
    "\n",
    "![MNIST Dataset](http://neuralnetworksanddeeplearning.com/images/mnist_100_digits.png)\n",
    "\n",
    "More info: http://yann.lecun.com/exdb/mnist/"
   ]
  },
  {
   "cell_type": "code",
   "execution_count": 1,
   "metadata": {
    "collapsed": true
   },
   "outputs": [],
   "source": [
    "from __future__ import division, print_function, absolute_import\n",
    "\n",
    "import matplotlib.pyplot as plt\n",
    "import numpy as np\n",
    "import tensorflow as tf"
   ]
  },
  {
   "cell_type": "code",
   "execution_count": 2,
   "metadata": {
    "collapsed": false
   },
   "outputs": [
    {
     "name": "stdout",
     "output_type": "stream",
     "text": [
      "Extracting /tmp/data/train-images-idx3-ubyte.gz\n",
      "Extracting /tmp/data/train-labels-idx1-ubyte.gz\n",
      "Extracting /tmp/data/t10k-images-idx3-ubyte.gz\n",
      "Extracting /tmp/data/t10k-labels-idx1-ubyte.gz\n"
     ]
    }
   ],
   "source": [
    "# Import MNIST data\n",
    "from tensorflow.examples.tutorials.mnist import input_data\n",
    "mnist = input_data.read_data_sets(\"/tmp/data/\", one_hot=True)"
   ]
  },
  {
   "cell_type": "code",
   "execution_count": 191,
   "metadata": {
    "collapsed": false
   },
   "outputs": [],
   "source": [
    "# Classifier parameters\n",
    "C_learning_rate = 0.01\n",
    "C_training_epochs = 200\n",
    "C_batch_size = 100\n",
    "C_display_step = 20\n",
    "\n",
    "# tf Graph Input\n",
    "x = tf.placeholder(tf.float32, [None, 784]) # mnist data image of shape 28*28=784\n",
    "y = tf.placeholder(tf.float32, [None, 10]) # 0-9 digits recognition => 10 classes\n",
    "\n",
    "# Set model weights\n",
    "W = tf.Variable(tf.zeros([784, 10]))\n",
    "b = tf.Variable(tf.zeros([10]))\n",
    "\n",
    "# Construct model\n",
    "C_pred = tf.nn.softmax(tf.matmul(x, W) + b) # Softmax\n",
    "\n",
    "# Minimize error using cross entropy\n",
    "C_cost = tf.reduce_mean(-tf.reduce_sum(y*tf.log(C_pred), reduction_indices=1)) \n",
    "\n",
    "# Gradient Descent\n",
    "C_optimizer = tf.train.GradientDescentOptimizer(C_learning_rate).minimize(C_cost)"
   ]
  },
  {
   "cell_type": "code",
   "execution_count": 192,
   "metadata": {
    "collapsed": true
   },
   "outputs": [],
   "source": [
    "# Generator training Params\n",
    "num_steps = 70000\n",
    "batch_size = 128\n",
    "learning_rate = 0.0002\n",
    "\n",
    "# Network Params\n",
    "image_dim = 784 # 28*28 pixels\n",
    "gen_hidden_dim = 256\n",
    "disc_hidden_dim = 256\n",
    "noise_dim = 100 # Noise data points\n",
    "\n",
    "# A custom initialization (see Xavier Glorot init)\n",
    "def glorot_init(shape):\n",
    "    return tf.random_normal(shape=shape, stddev=1. / tf.sqrt(shape[0] / 2.))"
   ]
  },
  {
   "cell_type": "code",
   "execution_count": 193,
   "metadata": {
    "collapsed": false
   },
   "outputs": [],
   "source": [
    "# Store layers weight & bias\n",
    "K = 10 #queue length\n",
    "weights_list = []\n",
    "biases_list = []\n",
    "\n",
    "#for i in range(K):\n",
    "weights_list += [{\n",
    "    'gen_hidden1': tf.Variable(glorot_init([noise_dim, gen_hidden_dim])),\n",
    "    'gen_out': tf.Variable(glorot_init([gen_hidden_dim, image_dim])),\n",
    "    'disc_hidden1': tf.Variable(glorot_init([image_dim, disc_hidden_dim])),\n",
    "    'disc_out': tf.Variable(glorot_init([disc_hidden_dim, 1])),\n",
    "},]\n",
    "\n",
    "biases_list += [{\n",
    "    'gen_hidden1': tf.Variable(tf.zeros([gen_hidden_dim])),\n",
    "    'gen_out': tf.Variable(tf.zeros([image_dim])),\n",
    "    'disc_hidden1': tf.Variable(tf.zeros([disc_hidden_dim])),\n",
    "    'disc_out': tf.Variable(tf.zeros([1])),\n",
    "},]"
   ]
  },
  {
   "cell_type": "code",
   "execution_count": 194,
   "metadata": {
    "collapsed": false,
    "scrolled": true
   },
   "outputs": [],
   "source": [
    "# Generator\n",
    "def generator_i(x,i):\n",
    "    hidden_layer = tf.matmul(x, weights_list[i]['gen_hidden1'])\n",
    "    hidden_layer = tf.add(hidden_layer, biases_list[i]['gen_hidden1'])\n",
    "    hidden_layer = tf.nn.relu(hidden_layer)\n",
    "    out_layer = tf.matmul(hidden_layer, weights_list[i]['gen_out'])\n",
    "    out_layer = tf.add(out_layer, biases_list[i]['gen_out'])\n",
    "    out_layer = tf.nn.sigmoid(out_layer)\n",
    "    return out_layer\n",
    "\n",
    "def generator(x):\n",
    "    out_layer_sum=0\n",
    "    for i in range(min(len(weights_list),K)): # if not yet K learners, just sum up to n_iter\n",
    "        out_layer_sum+=generator_i(x,i)\n",
    "    return out_layer_sum/min(len(weights_list),K)\n",
    "\n",
    "# Discriminator\n",
    "def discriminator_i(x,i):\n",
    "    hidden_layer = tf.matmul(x, weights_list[i]['disc_hidden1'])\n",
    "    hidden_layer = tf.add(hidden_layer, biases_list[i]['disc_hidden1'])\n",
    "    hidden_layer = tf.nn.relu(hidden_layer)\n",
    "    out_layer = tf.matmul(hidden_layer, weights_list[i]['disc_out'])\n",
    "    out_layer = tf.add(out_layer, biases_list[i]['disc_out'])\n",
    "    out_layer = tf.nn.sigmoid(out_layer)\n",
    "    return out_layer\n",
    "\n",
    "def discriminator(x):\n",
    "    out_layer_sum=0\n",
    "    for i in range(min(len(weights_list),K)):# if not yet K learners, just sum up to n_iter\n",
    "        out_layer_sum+=discriminator_i(x,i)\n",
    "    return out_layer_sum/min(len(weights_list),K)\n",
    "\n",
    "# Build Networks\n",
    "# Network Inputs\n",
    "gen_input = tf.placeholder(tf.float32, shape=[None, noise_dim], name='input_noise')\n",
    "disc_input = tf.placeholder(tf.float32, shape=[None, image_dim], name='disc_input')\n",
    "\n",
    "# Build Generator Network\n",
    "gen_sample = generator(gen_input)\n",
    "\n",
    "# Build 2 Discriminator Networks (one from noise input, one from generated samples)\n",
    "disc_real = discriminator(disc_input)\n",
    "disc_fake = discriminator(gen_sample)\n",
    "\n",
    "# Build Loss\n",
    "gen_loss = -tf.reduce_mean(tf.log(disc_fake))\n",
    "disc_loss = -tf.reduce_mean(tf.log(disc_real) + tf.log(1. - disc_fake))\n",
    "\n",
    "# Build Optimizers\n",
    "optimizer_gen = tf.train.AdamOptimizer(learning_rate=learning_rate)\n",
    "optimizer_disc = tf.train.AdamOptimizer(learning_rate=learning_rate)\n",
    "\n",
    "# Training Variables for each optimizer\n",
    "# By default in TensorFlow, all variables are updated by each optimizer, so we\n",
    "# need to precise for each one of them the specific variables to update.\n",
    "# Update last weights/biases in list\n",
    "# Generator Network Variables\n",
    "gen_vars = [weights_list[0]['gen_hidden1'], weights_list[0]['gen_out'],\n",
    "            biases_list[0]['gen_hidden1'], biases_list[0]['gen_out']]\n",
    "# Discriminator Network Variables\n",
    "disc_vars = [weights_list[0]['disc_hidden1'], weights_list[0]['disc_out'],\n",
    "            biases_list[0]['disc_hidden1'], biases_list[0]['disc_out']]\n",
    "\n",
    "# Create training operations\n",
    "train_gen = optimizer_gen.minimize(gen_loss, var_list=gen_vars)\n",
    "train_disc = optimizer_disc.minimize(disc_loss, var_list=disc_vars)\n",
    "\n",
    "# Initialize the variables (i.e. assign their default value)\n",
    "init = tf.global_variables_initializer()"
   ]
  },
  {
   "cell_type": "code",
   "execution_count": 195,
   "metadata": {
    "collapsed": true
   },
   "outputs": [],
   "source": [
    "# Start Training\n",
    "# Start a new TF session\n",
    "sess = tf.Session()\n",
    "\n",
    "# Run the initializer\n",
    "sess.run(init)"
   ]
  },
  {
   "cell_type": "code",
   "execution_count": 196,
   "metadata": {
    "collapsed": false
   },
   "outputs": [
    {
     "name": "stdout",
     "output_type": "stream",
     "text": [
      "Epoch: 0020 cost= 0.344164313\n",
      "Epoch: 0040 cost= 0.315309885\n",
      "Epoch: 0060 cost= 0.298480072\n",
      "Epoch: 0080 cost= 0.287638919\n",
      "Epoch: 0100 cost= 0.284633420\n",
      "Epoch: 0120 cost= 0.279406072\n",
      "Epoch: 0140 cost= 0.277407631\n",
      "Epoch: 0160 cost= 0.274515240\n",
      "Epoch: 0180 cost= 0.269936772\n",
      "Epoch: 0200 cost= 0.267536111\n",
      "Optimization Finished!\n",
      "Accuracy: 0.9231\n"
     ]
    }
   ],
   "source": [
    "# Start classifier training\n",
    "for epoch in range(C_training_epochs):\n",
    "    avg_cost = 0.\n",
    "    total_batch = int(mnist.train.num_examples/C_batch_size)\n",
    "    # Loop over all batches\n",
    "    for i in range(total_batch):\n",
    "        batch_xs, batch_ys = mnist.train.next_batch(C_batch_size)\n",
    "        # Fit training using batch data\n",
    "        _, c = sess.run([C_optimizer, C_cost], feed_dict={x: batch_xs,y: batch_ys})\n",
    "        # Compute average loss\n",
    "        avg_cost += c / total_batch\n",
    "    # Display logs per epoch step\n",
    "    if (epoch+1) % C_display_step == 0:\n",
    "        print(\"Epoch:\", '%04d' % (epoch+1), \"cost=\", \"{:.9f}\".format(avg_cost))\n",
    "\n",
    "print(\"Optimization Finished!\")\n",
    "\n",
    "# Test model\n",
    "correct_prediction = tf.equal(tf.argmax(C_pred, 1), tf.argmax(y, 1))\n",
    "# Calculate accuracy for test set\n",
    "accuracy = tf.reduce_mean(tf.cast(correct_prediction, tf.float32))\n",
    "with sess.as_default():\n",
    "    print(\"Accuracy:\", accuracy.eval({x: mnist.test.images, y: mnist.test.labels}))"
   ]
  },
  {
   "cell_type": "code",
   "execution_count": 198,
   "metadata": {
    "collapsed": false
   },
   "outputs": [
    {
     "data": {
      "text/plain": [
       "'D:/School/NUS Y5/S2/Deep Learning/HW6/Regularization/saved/classifier_weights.ckpt'"
      ]
     },
     "execution_count": 198,
     "metadata": {},
     "output_type": "execute_result"
    }
   ],
   "source": [
    "C_saver = tf.train.Saver([W,b])\n",
    "C_saver.save(sess, \"D:/School/NUS Y5/S2/Deep Learning/HW6/Regularization/saved/classifier_weights.ckpt\")"
   ]
  },
  {
   "cell_type": "code",
   "execution_count": 154,
   "metadata": {
    "collapsed": false,
    "scrolled": true
   },
   "outputs": [
    {
     "name": "stdout",
     "output_type": "stream",
     "text": [
      "Step 1: Generator Loss: 0.348006, Discriminator Loss: 1.937679\n",
      "Step 1000: Generator Loss: 3.333729, Discriminator Loss: 0.089854\n",
      "Step 2000: Generator Loss: 4.550764, Discriminator Loss: 0.039372\n",
      "Step 3000: Generator Loss: 5.537576, Discriminator Loss: 0.009592\n",
      "Step 4000: Generator Loss: 3.397864, Discriminator Loss: 0.082919\n",
      "Step 5000: Generator Loss: 4.032715, Discriminator Loss: 0.105085\n",
      "Step 6000: Generator Loss: 3.286633, Discriminator Loss: 0.182369\n",
      "Step 7000: Generator Loss: 3.584309, Discriminator Loss: 0.194608\n",
      "Step 8000: Generator Loss: 4.039351, Discriminator Loss: 0.104186\n",
      "Step 9000: Generator Loss: 3.869528, Discriminator Loss: 0.192289\n",
      "Step 10000: Generator Loss: 3.547564, Discriminator Loss: 0.204406\n",
      "Step 11000: Generator Loss: 3.834746, Discriminator Loss: 0.150512\n",
      "Step 12000: Generator Loss: 3.976036, Discriminator Loss: 0.206273\n",
      "Step 13000: Generator Loss: 3.481917, Discriminator Loss: 0.270362\n",
      "Step 14000: Generator Loss: 2.785503, Discriminator Loss: 0.459059\n",
      "Step 15000: Generator Loss: 4.111503, Discriminator Loss: 0.141346\n",
      "Step 16000: Generator Loss: 3.769432, Discriminator Loss: 0.312896\n",
      "Step 17000: Generator Loss: 4.144924, Discriminator Loss: 0.208413\n",
      "Step 18000: Generator Loss: 3.151700, Discriminator Loss: 0.328836\n",
      "Step 19000: Generator Loss: 4.033718, Discriminator Loss: 0.177017\n",
      "Step 20000: Generator Loss: 4.168930, Discriminator Loss: 0.270643\n",
      "Step 21000: Generator Loss: 4.368777, Discriminator Loss: 0.175455\n",
      "Step 22000: Generator Loss: 4.149942, Discriminator Loss: 0.138141\n",
      "Step 23000: Generator Loss: 3.557487, Discriminator Loss: 0.226148\n",
      "Step 24000: Generator Loss: 3.632771, Discriminator Loss: 0.273181\n",
      "Step 25000: Generator Loss: 3.588680, Discriminator Loss: 0.295068\n",
      "Step 26000: Generator Loss: 4.113245, Discriminator Loss: 0.264559\n",
      "Step 27000: Generator Loss: 3.249042, Discriminator Loss: 0.311619\n",
      "Step 28000: Generator Loss: 3.358678, Discriminator Loss: 0.272883\n",
      "Step 29000: Generator Loss: 3.432938, Discriminator Loss: 0.281712\n",
      "Step 30000: Generator Loss: 2.928880, Discriminator Loss: 0.267726\n",
      "Step 31000: Generator Loss: 3.060781, Discriminator Loss: 0.333968\n",
      "Step 32000: Generator Loss: 2.928454, Discriminator Loss: 0.332344\n",
      "Step 33000: Generator Loss: 2.689090, Discriminator Loss: 0.415796\n",
      "Step 34000: Generator Loss: 3.152063, Discriminator Loss: 0.389728\n",
      "Step 35000: Generator Loss: 2.805802, Discriminator Loss: 0.414309\n",
      "Step 36000: Generator Loss: 2.726924, Discriminator Loss: 0.447364\n",
      "Step 37000: Generator Loss: 3.000697, Discriminator Loss: 0.449187\n",
      "Step 38000: Generator Loss: 2.905919, Discriminator Loss: 0.369947\n",
      "Step 39000: Generator Loss: 2.785157, Discriminator Loss: 0.448321\n",
      "Step 40000: Generator Loss: 2.399501, Discriminator Loss: 0.437233\n",
      "Step 41000: Generator Loss: 3.033488, Discriminator Loss: 0.286992\n",
      "Step 42000: Generator Loss: 3.280643, Discriminator Loss: 0.286949\n",
      "Step 43000: Generator Loss: 2.610013, Discriminator Loss: 0.397316\n",
      "Step 44000: Generator Loss: 3.171221, Discriminator Loss: 0.397441\n",
      "Step 45000: Generator Loss: 2.697659, Discriminator Loss: 0.466323\n",
      "Step 46000: Generator Loss: 2.838404, Discriminator Loss: 0.311874\n",
      "Step 47000: Generator Loss: 2.798099, Discriminator Loss: 0.442379\n",
      "Step 48000: Generator Loss: 2.898380, Discriminator Loss: 0.508388\n",
      "Step 49000: Generator Loss: 2.578232, Discriminator Loss: 0.498596\n",
      "Step 50000: Generator Loss: 3.114571, Discriminator Loss: 0.456088\n",
      "Step 51000: Generator Loss: 2.773483, Discriminator Loss: 0.543313\n",
      "Step 52000: Generator Loss: 2.992327, Discriminator Loss: 0.510147\n",
      "Step 53000: Generator Loss: 2.812039, Discriminator Loss: 0.497736\n",
      "Step 54000: Generator Loss: 3.212100, Discriminator Loss: 0.340630\n",
      "Step 55000: Generator Loss: 2.795207, Discriminator Loss: 0.347367\n",
      "Step 56000: Generator Loss: 2.405692, Discriminator Loss: 0.536327\n",
      "Step 57000: Generator Loss: 2.919732, Discriminator Loss: 0.520652\n",
      "Step 58000: Generator Loss: 2.773770, Discriminator Loss: 0.456438\n",
      "Step 59000: Generator Loss: 2.974700, Discriminator Loss: 0.377863\n",
      "Step 60000: Generator Loss: 3.046120, Discriminator Loss: 0.400841\n",
      "Step 61000: Generator Loss: 2.766719, Discriminator Loss: 0.510135\n",
      "Step 62000: Generator Loss: 2.519709, Discriminator Loss: 0.472232\n",
      "Step 63000: Generator Loss: 2.811679, Discriminator Loss: 0.392382\n",
      "Step 64000: Generator Loss: 2.657886, Discriminator Loss: 0.429643\n",
      "Step 65000: Generator Loss: 2.744719, Discriminator Loss: 0.360849\n",
      "Step 66000: Generator Loss: 2.552007, Discriminator Loss: 0.463036\n",
      "Step 67000: Generator Loss: 2.524450, Discriminator Loss: 0.356956\n",
      "Step 68000: Generator Loss: 2.878147, Discriminator Loss: 0.455873\n",
      "Step 69000: Generator Loss: 3.191670, Discriminator Loss: 0.504141\n",
      "Step 70000: Generator Loss: 2.846743, Discriminator Loss: 0.437231\n"
     ]
    }
   ],
   "source": [
    "# Start generator Training\n",
    "for i in range(1, num_steps+1):\n",
    "    # Prepare Data\n",
    "    # Get the next batch of MNIST data (only images are needed, not labels)\n",
    "    batch_x, _ = mnist.train.next_batch(batch_size)\n",
    "    # Generate noise to feed to the generator\n",
    "    z = np.random.uniform(-1., 1., size=[batch_size, noise_dim])\n",
    "\n",
    "    # Train\n",
    "    feed_dict = {disc_input: batch_x, gen_input: z}\n",
    "    _, _, gl, dl = sess.run([train_gen, train_disc, gen_loss, disc_loss],\n",
    "                                feed_dict=feed_dict)\n",
    "    # Update weights/biases list\n",
    "    # Update last item to be like second last    \n",
    "    weights_list = [weights_list[0]] + weights_list\n",
    "    biases_list = [biases_list[0]] + biases_list\n",
    "    \n",
    "    # Remove first item\n",
    "    if len(weights_list) > K:\n",
    "        weights_list.pop()\n",
    "        biases_list.pop()\n",
    "    \n",
    "    if i % 1000 == 0 or i == 1:\n",
    "        print('Step %i: Generator Loss: %f, Discriminator Loss: %f' % (i, gl, dl))"
   ]
  },
  {
   "cell_type": "code",
   "execution_count": 156,
   "metadata": {
    "collapsed": false
   },
   "outputs": [
    {
     "data": {
      "image/png": "[encoded data removed]",
      "text/plain": [
       "<matplotlib.figure.Figure at 0x2175002a400>"
      ]
     },
     "metadata": {},
     "output_type": "display_data"
    }
   ],
   "source": [
    "# Testing\n",
    "# Generate images from noise, using the generator network.\n",
    "n = 6\n",
    "canvas = np.empty((28 * n, 28 * n))\n",
    "for i in range(n):\n",
    "    # Noise input.\n",
    "    z = np.random.uniform(-1., 1., size=[n, noise_dim])\n",
    "    # Generate image from noise.\n",
    "    g = sess.run(gen_sample, feed_dict={gen_input: z})\n",
    "    # Reverse colours for better display\n",
    "    g = -1 * (g - 1)\n",
    "    for j in range(n):\n",
    "        # Draw the generated digits\n",
    "        canvas[i * 28:(i + 1) * 28, j * 28:(j + 1) * 28] = g[j].reshape([28, 28])\n",
    "\n",
    "plt.figure(figsize=(n, n))\n",
    "plt.imshow(canvas, origin=\"upper\", cmap=\"gray\")\n",
    "plt.show()"
   ]
  },
  {
   "cell_type": "code",
   "execution_count": 160,
   "metadata": {
    "collapsed": true
   },
   "outputs": [],
   "source": [
    "n_test=1000\n",
    "for i in range(n_test):\n",
    "    # Noise input.\n",
    "    z = np.random.uniform(-1., 1., size=[n_test, noise_dim])\n",
    "    # Generate image from noise.\n",
    "    g_test = sess.run(gen_sample, feed_dict={gen_input: z})"
   ]
  },
  {
   "cell_type": "code",
   "execution_count": 159,
   "metadata": {
    "collapsed": false
   },
   "outputs": [
    {
     "data": {
      "text/plain": [
       "'D:/School/NUS Y5/S2/Deep Learning/HW6/Regularization/saved/chekhovgan_biases.ckpt'"
      ]
     },
     "execution_count": 159,
     "metadata": {},
     "output_type": "execute_result"
    }
   ],
   "source": [
    "saver1 = tf.train.Saver(weights_list[0])\n",
    "saver1.save(sess, \"D:/School/NUS Y5/S2/Deep Learning/HW6/Regularization/saved/chekhovgan_weights.ckpt\")\n",
    "saver2 = tf.train.Saver(biases_list[0])\n",
    "saver2.save(sess, \"D:/School/NUS Y5/S2/Deep Learning/HW6/Regularization/saved/chekhovgan_biases.ckpt\")"
   ]
  },
  {
   "cell_type": "code",
   "execution_count": 168,
   "metadata": {
    "collapsed": false
   },
   "outputs": [],
   "source": [
    "# classify generated images\n",
    "y = tf.nn.softmax(tf.matmul(g_test, W) + b)\n",
    "z = tf.argmax(y,1).eval(session=sess)"
   ]
  },
  {
   "cell_type": "code",
   "execution_count": 175,
   "metadata": {
    "collapsed": false
   },
   "outputs": [
    {
     "data": {
      "text/plain": [
       "{0: 12, 1: 40, 2: 30, 3: 80, 4: 138, 5: 33, 6: 29, 7: 216, 8: 114, 9: 308}"
      ]
     },
     "execution_count": 175,
     "metadata": {},
     "output_type": "execute_result"
    }
   ],
   "source": [
    "unique, counts = np.unique(z, return_counts=True)\n",
    "dict(zip(unique, counts))"
   ]
  }
 ],
 "metadata": {
  "anaconda-cloud": {},
  "kernelspec": {
   "display_name": "Python deep learning",
   "language": "python",
   "name": "deeplearning"
  },
  "language_info": {
   "codemirror_mode": {
    "name": "ipython",
    "version": 3
   },
   "file_extension": ".py",
   "mimetype": "text/x-python",
   "name": "python",
   "nbconvert_exporter": "python",
   "pygments_lexer": "ipython3",
   "version": "3.5.4"
  }
 },
 "nbformat": 4,
 "nbformat_minor": 2
}
